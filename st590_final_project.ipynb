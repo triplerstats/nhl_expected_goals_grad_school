{
 "cells": [
  {
   "cell_type": "markdown",
   "id": "9c2549ba-a98f-407b-bdcc-12b9dc49844f",
   "metadata": {},
   "source": [
    "# Final Project - ST590"
   ]
  },
  {
   "cell_type": "markdown",
   "id": "4bef6948-ba20-4acf-9801-6856e055ca48",
   "metadata": {},
   "source": [
    "## Building an Expected Goals Model With NHL Shots Data\n",
    "#### Josh Baber and Rich Ramsey"
   ]
  },
  {
   "cell_type": "markdown",
   "id": "f345a9e8-887f-43ba-ab08-af2e33449deb",
   "metadata": {},
   "source": [
    "The practice and application of analytics and statistical modeling in the NHL has advanced a great deal in the last 10 years. As two hockey fans, we naturally wanted to get our hands on some of the data available and try out building our own model utilizing those data."
   ]
  },
  {
   "cell_type": "markdown",
   "id": "45e6b19c-2e93-4510-9f10-b3729e4cc487",
   "metadata": {},
   "source": [
    "The data set comes from [Money Puck](https://www.moneypuck.com/), a website that produces many different statistical models and NHL advanced statistics available for the public. It contains all the shots that were taken in NHL games in the 2021-22 season. The data were collected from several different sources, including the NHL and ESPN, per Money Puck. There are many variables that are calculated on top of the raw variables from those sources, which were calculated by Money Puck for the purposes of fitting different models.  Expected goals models are used to evaluate the quality of shots that a team is generating, as well as how likely a team is to win a game based on the quality of shots taken."
   ]
  },
  {
   "cell_type": "markdown",
   "id": "fa1a2c8c-a224-4aad-83cf-fcd07d03a9c6",
   "metadata": {},
   "source": [
    "Our goal with these data is to build a logistic regression model, a classification tree, and a random forest model to predict the likelihood a goal is scored on a given shot. We will take into account many different factors in the data, such as the shot distance from the goal, the shot angle (straight on from the goal would be 0), the type of shot, whether the team was on the power play, penalty kill, or at even strength, and many more possible predictors from the data set. It will require us to investigate the data set in the exploratory analysis part and try to create features out of the numerous variables included in the data set."
   ]
  },
  {
   "cell_type": "markdown",
   "id": "be0c6bf1-3cfb-4cfe-a38c-50f4784ffcd3",
   "metadata": {},
   "source": [
    "The data set can be downloaded from [this link.](https://www.moneypuck.com/data.htm)  It's the \"2021-2022 Season (121,471 shots)\" data set at the very bottom of the webpage."
   ]
  },
  {
   "cell_type": "markdown",
   "id": "931d63a9-e754-4b10-bee4-8c81c54ab17a",
   "metadata": {},
   "source": [
    "## Setup and Reading Data Files"
   ]
  },
  {
   "cell_type": "markdown",
   "id": "9ac75cce-af4d-42b0-912d-1677d93b1c20",
   "metadata": {},
   "source": [
    "To start, we need to import some libraries that will be used for data processing and plotting."
   ]
  },
  {
   "cell_type": "code",
   "execution_count": 1,
   "id": "15b3eb2d-0fab-46f7-89a7-72b9fb47ffaf",
   "metadata": {},
   "outputs": [
    {
     "name": "stderr",
     "output_type": "stream",
     "text": [
      "WARNING:root:'PYARROW_IGNORE_TIMEZONE' environment variable was not set. It is required to set this environment variable to '1' in both driver and executor sides if you use pyarrow>=2.0.0. pandas-on-Spark will set it for you but it does not work if there is a Spark context already launched.\n"
     ]
    }
   ],
   "source": [
    "# import libraries\n",
    "import numpy as np\n",
    "import pandas as pd\n",
    "import matplotlib.pyplot as plt\n",
    "import seaborn as sns\n",
    "import pyspark.pandas as ps"
   ]
  },
  {
   "cell_type": "markdown",
   "id": "d670cb77-aeea-4f32-be62-ba251ab16628",
   "metadata": {},
   "source": [
    "Next, we will start up a `pyspark` instance using `SparkSession`."
   ]
  },
  {
   "cell_type": "code",
   "execution_count": 2,
   "id": "fb0f87e2-4281-454f-9017-2f3ffc1ef3c5",
   "metadata": {},
   "outputs": [],
   "source": [
    "# Additional code to ensure that this will run on Windows\n",
    "import os\n",
    "import sys\n",
    "os.environ['PYSPARK_PYTHON'] = sys.executable\n",
    "os.environ['PYSPARK_DRIVER_PYTHON'] = sys.executable\n",
    "\n",
    "# Set up spark instance\n",
    "from pyspark.sql import SparkSession\n",
    "spark = SparkSession.builder.getOrCreate()"
   ]
  },
  {
   "cell_type": "markdown",
   "id": "ed531c1f-6c1c-42c7-a6c9-eaa3007ccba5",
   "metadata": {},
   "source": [
    "With the Spark instance up and running, we'll need to import the data from the .csv file using `.read_csv()`. We'll take a look at the top 5 rows in the data set using `.head()` just to get a sense for what we're dealing with."
   ]
  },
  {
   "cell_type": "code",
   "execution_count": 3,
   "id": "41e3b50d-0218-4ddb-a730-5e9c7362b567",
   "metadata": {},
   "outputs": [
    {
     "data": {
      "text/html": [
       "<div>\n",
       "<style scoped>\n",
       "    .dataframe tbody tr th:only-of-type {\n",
       "        vertical-align: middle;\n",
       "    }\n",
       "\n",
       "    .dataframe tbody tr th {\n",
       "        vertical-align: top;\n",
       "    }\n",
       "\n",
       "    .dataframe thead th {\n",
       "        text-align: right;\n",
       "    }\n",
       "</style>\n",
       "<table border=\"1\" class=\"dataframe\">\n",
       "  <thead>\n",
       "    <tr style=\"text-align: right;\">\n",
       "      <th></th>\n",
       "      <th>shotID</th>\n",
       "      <th>arenaAdjustedShotDistance</th>\n",
       "      <th>arenaAdjustedXCord</th>\n",
       "      <th>arenaAdjustedXCordABS</th>\n",
       "      <th>arenaAdjustedYCord</th>\n",
       "      <th>arenaAdjustedYCordAbs</th>\n",
       "      <th>averageRestDifference</th>\n",
       "      <th>awayEmptyNet</th>\n",
       "      <th>awayPenalty1Length</th>\n",
       "      <th>awayPenalty1TimeLeft</th>\n",
       "      <th>...</th>\n",
       "      <th>xCordAdjusted</th>\n",
       "      <th>xFroze</th>\n",
       "      <th>xGoal</th>\n",
       "      <th>xPlayContinuedInZone</th>\n",
       "      <th>xPlayContinuedOutsideZone</th>\n",
       "      <th>xPlayStopped</th>\n",
       "      <th>xRebound</th>\n",
       "      <th>xShotWasOnGoal</th>\n",
       "      <th>yCord</th>\n",
       "      <th>yCordAdjusted</th>\n",
       "    </tr>\n",
       "  </thead>\n",
       "  <tbody>\n",
       "    <tr>\n",
       "      <th>0</th>\n",
       "      <td>0</td>\n",
       "      <td>42.520583</td>\n",
       "      <td>61.0</td>\n",
       "      <td>61.0</td>\n",
       "      <td>-32.0</td>\n",
       "      <td>32.0</td>\n",
       "      <td>-8.4</td>\n",
       "      <td>0</td>\n",
       "      <td>0</td>\n",
       "      <td>0</td>\n",
       "      <td>...</td>\n",
       "      <td>61</td>\n",
       "      <td>0.202514</td>\n",
       "      <td>0.009192</td>\n",
       "      <td>0.445979</td>\n",
       "      <td>0.289830</td>\n",
       "      <td>0.023891</td>\n",
       "      <td>0.028594</td>\n",
       "      <td>0.718082</td>\n",
       "      <td>-32</td>\n",
       "      <td>-32</td>\n",
       "    </tr>\n",
       "    <tr>\n",
       "      <th>1</th>\n",
       "      <td>1</td>\n",
       "      <td>30.610456</td>\n",
       "      <td>-65.0</td>\n",
       "      <td>65.0</td>\n",
       "      <td>19.0</td>\n",
       "      <td>19.0</td>\n",
       "      <td>21.4</td>\n",
       "      <td>0</td>\n",
       "      <td>0</td>\n",
       "      <td>0</td>\n",
       "      <td>...</td>\n",
       "      <td>65</td>\n",
       "      <td>0.285948</td>\n",
       "      <td>0.031353</td>\n",
       "      <td>0.303080</td>\n",
       "      <td>0.325607</td>\n",
       "      <td>0.026384</td>\n",
       "      <td>0.027629</td>\n",
       "      <td>0.793188</td>\n",
       "      <td>19</td>\n",
       "      <td>-19</td>\n",
       "    </tr>\n",
       "    <tr>\n",
       "      <th>2</th>\n",
       "      <td>2</td>\n",
       "      <td>85.381497</td>\n",
       "      <td>-8.0</td>\n",
       "      <td>8.0</td>\n",
       "      <td>-27.0</td>\n",
       "      <td>27.0</td>\n",
       "      <td>3.8</td>\n",
       "      <td>0</td>\n",
       "      <td>0</td>\n",
       "      <td>0</td>\n",
       "      <td>...</td>\n",
       "      <td>8</td>\n",
       "      <td>0.161225</td>\n",
       "      <td>0.012753</td>\n",
       "      <td>0.307661</td>\n",
       "      <td>0.486296</td>\n",
       "      <td>0.019218</td>\n",
       "      <td>0.012846</td>\n",
       "      <td>0.840122</td>\n",
       "      <td>-27</td>\n",
       "      <td>27</td>\n",
       "    </tr>\n",
       "    <tr>\n",
       "      <th>3</th>\n",
       "      <td>3</td>\n",
       "      <td>29.274562</td>\n",
       "      <td>-60.0</td>\n",
       "      <td>60.0</td>\n",
       "      <td>-4.0</td>\n",
       "      <td>4.0</td>\n",
       "      <td>0.0</td>\n",
       "      <td>0</td>\n",
       "      <td>0</td>\n",
       "      <td>0</td>\n",
       "      <td>...</td>\n",
       "      <td>60</td>\n",
       "      <td>0.161623</td>\n",
       "      <td>0.121753</td>\n",
       "      <td>0.374061</td>\n",
       "      <td>0.264891</td>\n",
       "      <td>0.024508</td>\n",
       "      <td>0.053163</td>\n",
       "      <td>0.729294</td>\n",
       "      <td>-4</td>\n",
       "      <td>4</td>\n",
       "    </tr>\n",
       "    <tr>\n",
       "      <th>4</th>\n",
       "      <td>4</td>\n",
       "      <td>26.305893</td>\n",
       "      <td>63.0</td>\n",
       "      <td>63.0</td>\n",
       "      <td>4.0</td>\n",
       "      <td>4.0</td>\n",
       "      <td>0.0</td>\n",
       "      <td>0</td>\n",
       "      <td>0</td>\n",
       "      <td>0</td>\n",
       "      <td>...</td>\n",
       "      <td>63</td>\n",
       "      <td>0.116379</td>\n",
       "      <td>0.088392</td>\n",
       "      <td>0.432747</td>\n",
       "      <td>0.284554</td>\n",
       "      <td>0.018850</td>\n",
       "      <td>0.059078</td>\n",
       "      <td>0.695010</td>\n",
       "      <td>4</td>\n",
       "      <td>4</td>\n",
       "    </tr>\n",
       "  </tbody>\n",
       "</table>\n",
       "<p>5 rows × 124 columns</p>\n",
       "</div>"
      ],
      "text/plain": [
       "   shotID  arenaAdjustedShotDistance  arenaAdjustedXCord  \\\n",
       "0       0                  42.520583                61.0   \n",
       "1       1                  30.610456               -65.0   \n",
       "2       2                  85.381497                -8.0   \n",
       "3       3                  29.274562               -60.0   \n",
       "4       4                  26.305893                63.0   \n",
       "\n",
       "   arenaAdjustedXCordABS  arenaAdjustedYCord  arenaAdjustedYCordAbs  \\\n",
       "0                   61.0               -32.0                   32.0   \n",
       "1                   65.0                19.0                   19.0   \n",
       "2                    8.0               -27.0                   27.0   \n",
       "3                   60.0                -4.0                    4.0   \n",
       "4                   63.0                 4.0                    4.0   \n",
       "\n",
       "   averageRestDifference  awayEmptyNet  awayPenalty1Length  \\\n",
       "0                   -8.4             0                   0   \n",
       "1                   21.4             0                   0   \n",
       "2                    3.8             0                   0   \n",
       "3                    0.0             0                   0   \n",
       "4                    0.0             0                   0   \n",
       "\n",
       "   awayPenalty1TimeLeft  ...  xCordAdjusted    xFroze     xGoal  \\\n",
       "0                     0  ...             61  0.202514  0.009192   \n",
       "1                     0  ...             65  0.285948  0.031353   \n",
       "2                     0  ...              8  0.161225  0.012753   \n",
       "3                     0  ...             60  0.161623  0.121753   \n",
       "4                     0  ...             63  0.116379  0.088392   \n",
       "\n",
       "   xPlayContinuedInZone  xPlayContinuedOutsideZone  xPlayStopped  xRebound  \\\n",
       "0              0.445979                   0.289830      0.023891  0.028594   \n",
       "1              0.303080                   0.325607      0.026384  0.027629   \n",
       "2              0.307661                   0.486296      0.019218  0.012846   \n",
       "3              0.374061                   0.264891      0.024508  0.053163   \n",
       "4              0.432747                   0.284554      0.018850  0.059078   \n",
       "\n",
       "   xShotWasOnGoal  yCord  yCordAdjusted  \n",
       "0        0.718082    -32            -32  \n",
       "1        0.793188     19            -19  \n",
       "2        0.840122    -27             27  \n",
       "3        0.729294     -4              4  \n",
       "4        0.695010      4              4  \n",
       "\n",
       "[5 rows x 124 columns]"
      ]
     },
     "execution_count": 3,
     "metadata": {},
     "output_type": "execute_result"
    }
   ],
   "source": [
    "# read in data from csv file\n",
    "nhl_shots = pd.read_csv(\"Data/shots_2021.csv\")\n",
    "nhl_shots.head(5)"
   ]
  },
  {
   "cell_type": "markdown",
   "id": "69d0e602-a036-4ed8-b01e-d29a5ee773ab",
   "metadata": {},
   "source": [
    "Some of the columns will need to be removed because they are the results of MoneyPuck's models (xGoal, xFroze, etc. are the \"expected\" variables showing probabilities of those outcomes from the MoneyPuck model). Others have a strong relationship with the goal variable or provide some post-shot information, which can't be included in predicting the probability of a goal (timeUntilNextEvent, shotPlayContinued, etc. indicate the shot was not scored). Finally, some are not relevant to predicting the likelihood of a goal being scored on the shot (ex: shot ID, game ID). Perhaps those could be included if we wanted to look at the predicted goal probability for a given shot or the number of goals \"expected\" to be scored in a game, on average.  We made a list of these columns then dropped them from our data set using the `.drop()` method."
   ]
  },
  {
   "cell_type": "code",
   "execution_count": 4,
   "id": "a867cb15-4964-4827-ba81-9350eeec5c04",
   "metadata": {},
   "outputs": [],
   "source": [
    "# List of columns to exclude\n",
    "columns_to_exclude = ['shotID', 'season', 'game_id', 'homeTeamWon', 'timeUntilNextEvent', 'event', \n",
    "                      'shotPlayContinuedOutsideZone', 'shotPlayContinuedInZone', 'shotGoalieFroze', 'shotPlayStopped','shotGeneratedRebound', \n",
    "                      'playerPositionThatDidEvent', 'playerNumThatDidEvent', 'playerNumThatDidLastEvent',\n",
    "                      'location', 'xGoal', 'xFroze', 'xRebound', 'xPlayContinuedInZone', 'xPlayContinuedOutsideZone', 'xPlayStopped', 'xShotWasOnGoal',\n",
    "                      'shotWasOnGoal']\n",
    "\n",
    "# drop columns from shots data frame\n",
    "nhl_shots = nhl_shots.drop(columns_to_exclude, axis = 1)"
   ]
  },
  {
   "cell_type": "markdown",
   "id": "4f9e453a-71ad-488f-a93d-bb71e7ad1f64",
   "metadata": {},
   "source": [
    "Now that the pandas data frame has the necessary columns removed and is in good shape for analysis and modeling, we will convert it to a spark data frame. To ensure the data are read into the spark data frame properly, we specified a schema with the data types for each variable in the data set.  This schema will detail the data type for each variable in the data set.  We can do this using the `StructType()` and `StructField()` functions from PySpark."
   ]
  },
  {
   "cell_type": "code",
   "execution_count": 5,
   "id": "d14c5dca-96d4-481b-8294-84d533ea279d",
   "metadata": {},
   "outputs": [],
   "source": [
    "# import Spark sql data types functions\n",
    "from pyspark.sql import functions as F\n",
    "from pyspark.sql.types import *\n",
    "\n",
    "# Specify data types for each variable, set third argument to True to ensure they are not NULL\n",
    "nhl_schema = StructType([\n",
    "    StructField(\"arenaAdjustedShotDistance\", FloatType(), True),\n",
    "    StructField(\"arenaAdjustedXCord\", FloatType(), True),\n",
    "    StructField(\"arenaAdjustedXCordABS\", FloatType(), True),\n",
    "    StructField(\"arenaAdjustedYCord\", FloatType(), True),\n",
    "    StructField(\"arenaAdjustedYCordAbs\", FloatType(), True),\n",
    "    StructField(\"averageRestDifference\", FloatType(), True),\n",
    "    StructField(\"awayEmptyNet\", IntegerType(), True),\n",
    "    StructField(\"awayPenalty1TimeLeft\", IntegerType(), True),\n",
    "    StructField(\"awayPenalty1Length\", IntegerType(), True),\n",
    "    StructField(\"awaySkatersOnIce\", IntegerType(), True),\n",
    "    StructField(\"awayTeamCode\", StringType(), True),\n",
    "    StructField(\"awayTeamGoals\", IntegerType(), True),\n",
    "    StructField(\"defendingTeamAverageTimeOnIce\", FloatType(), True),\n",
    "    StructField(\"defendingTeamAverageTimeOnIceOfDefencemen\", FloatType(), True),\n",
    "    StructField(\"defendingTeamAverageTimeOnIceOfDefencemenSinceFaceoff\", FloatType(), True),\n",
    "    StructField(\"defendingTeamAverageTimeOnIceOfForwards\", FloatType(), True),\n",
    "    StructField(\"defendingTeamAverageTimeOnIceOfForwardsSinceFaceoff\", FloatType(), True),\n",
    "    StructField(\"defendingTeamAverageTimeOnIceSinceFaceoff\", FloatType(), True),\n",
    "    StructField(\"defendingTeamDefencemenOnIce\", IntegerType(), True),\n",
    "    StructField(\"defendingTeamForwardsOnIce\", IntegerType(), True),\n",
    "    StructField(\"defendingTeamMaxTimeOnIce\", IntegerType(), True),\n",
    "    StructField(\"defendingTeamMaxTimeOnIceOfDefencemen\", IntegerType(), True),\n",
    "    StructField(\"defendingTeamMaxTimeOnIceOfDefencemenSinceFaceoff\", IntegerType(), True),\n",
    "    StructField(\"defendingTeamMaxTimeOnIceOfForwards\", IntegerType(), True),\n",
    "    StructField(\"defendingTeamMaxTimeOnIceOfForwardsSinceFaceoff\", IntegerType(), True),\n",
    "    StructField(\"defendingTeamMaxTimeOnIceSinceFaceoff\", IntegerType(), True),\n",
    "    StructField(\"defendingTeamMinTimeOnIce\", IntegerType(), True),\n",
    "    StructField(\"defendingTeamMinTimeOnIceOfDefencemen\", IntegerType(), True),\n",
    "    StructField(\"defendingTeamMinTimeOnIceOfDefencemenSinceFaceoff\", IntegerType(), True),\n",
    "    StructField(\"defendingTeamMinTimeOnIceOfForwards\", IntegerType(), True),\n",
    "    StructField(\"defendingTeamMinTimeOnIceOfForwardsSinceFaceoff\", IntegerType(), True),\n",
    "    StructField(\"defendingTeamMinTimeOnIceSinceFaceoff\", IntegerType(), True),\n",
    "    StructField(\"distanceFromLastEvent\", FloatType(), True),\n",
    "    StructField(\"goal\", IntegerType(), True),\n",
    "    StructField(\"goalieIDForShot\", IntegerType(), True),\n",
    "    StructField(\"goalieNameForShot\", StringType(), True),\n",
    "    StructField(\"homeEmptyNet\", IntegerType(), True),\n",
    "    StructField(\"homePenalty1TimeLeft\", IntegerType(), True),\n",
    "    StructField(\"homePenalty1Length\", IntegerType(), True),\n",
    "    StructField(\"homeSkatersOnIce\", IntegerType(), True),\n",
    "    StructField(\"homeTeamCode\", StringType(), True),\n",
    "    StructField(\"homeTeamGoals\", IntegerType(), True),\n",
    "    StructField(\"id\", IntegerType(), True),\n",
    "    StructField(\"isPlayoffGame\", FloatType(), True),\n",
    "    StructField(\"isHomeTeam\", IntegerType(), True),\n",
    "    StructField(\"lastEventCategory\", StringType(), True),\n",
    "    StructField(\"lastEventShotAngle\", FloatType(), True),\n",
    "    StructField(\"lastEventShotDistance\", FloatType(), True),\n",
    "    StructField(\"lastEventTeam\", StringType(), True),\n",
    "    StructField(\"lastEventxCord\", IntegerType(), True),\n",
    "    StructField(\"lastEventxCord_adjusted\", IntegerType(), True),\n",
    "    StructField(\"lastEventyCord\", IntegerType(), True),\n",
    "    StructField(\"lastEventyCord_adjusted\", IntegerType(), True),\n",
    "    StructField(\"offWing\", IntegerType(), True),\n",
    "    StructField(\"period\", IntegerType(), True),\n",
    "    StructField(\"shooterLeftRight\", StringType(), True),\n",
    "    StructField(\"shooterName\", StringType(), True),\n",
    "    StructField(\"shooterPlayerID\", FloatType(), True),\n",
    "    StructField(\"shooterTimeOnIce\", IntegerType(), True),\n",
    "    StructField(\"shooterTimeOnIceSinceFaceoff\", IntegerType(), True),\n",
    "    StructField(\"shootingTeamAverageTimeOnIce\", FloatType(), True),\n",
    "    StructField(\"shootingTeamAverageTimeOnIceOfDefencemen\", FloatType(), True),\n",
    "    StructField(\"shootingTeamAverageTimeOnIceOfDefencemenSinceFaceoff\", FloatType(), True),\n",
    "    StructField(\"shootingTeamAverageTimeOnIceOfForwards\", FloatType(), True),\n",
    "    StructField(\"shootingTeamAverageTimeOnIceOfForwardsSinceFaceoff\", FloatType(), True),\n",
    "    StructField(\"shootingTeamAverageTimeOnIceSinceFaceoff\", FloatType(), True),\n",
    "    StructField(\"shootingTeamDefencemenOnIce\", IntegerType(), True),\n",
    "    StructField(\"shootingTeamForwardsOnIce\", IntegerType(), True),\n",
    "    StructField(\"shootingTeamMaxTimeOnIce\", IntegerType(), True),\n",
    "    StructField(\"shootingTeamMaxTimeOnIceOfDefencemen\", IntegerType(), True),\n",
    "    StructField(\"shootingTeamMaxTimeOnIceOfDefencemenSinceFaceoff\", IntegerType(), True),\n",
    "    StructField(\"shootingTeamMaxTimeOnIceOfForwards\", IntegerType(), True),\n",
    "    StructField(\"shootingTeamMaxTimeOnIceOfForwardsSinceFaceoff\", IntegerType(), True),\n",
    "    StructField(\"shootingTeamMaxTimeOnIceSinceFaceoff\", IntegerType(), True),\n",
    "    StructField(\"shootingTeamMinTimeOnIce\", IntegerType(), True),\n",
    "    StructField(\"shootingTeamMinTimeOnIceOfDefencemen\", IntegerType(), True),\n",
    "    StructField(\"shootingTeamMinTimeOnIceOfDefencemenSinceFaceoff\", IntegerType(), True),\n",
    "    StructField(\"shootingTeamMinTimeOnIceOfForwards\", IntegerType(), True),\n",
    "    StructField(\"shootingTeamMinTimeOnIceOfForwardsSinceFaceoff\", IntegerType(), True),\n",
    "    StructField(\"shootingTeamMinTimeOnIceSinceFaceoff\", IntegerType(), True),\n",
    "    StructField(\"shotAngle\", FloatType(), True),\n",
    "    StructField(\"shotAngleAdjusted\", FloatType(), True),\n",
    "    StructField(\"shotAnglePlusRebound\", FloatType(), True),\n",
    "    StructField(\"shotAnglePlusReboundSpeed\", FloatType(), True),\n",
    "    StructField(\"shotAngleReboundRoyalRoad\", IntegerType(), True),\n",
    "    StructField(\"shotDistance\", FloatType(), True),\n",
    "    StructField(\"shotOnEmptyNet\", IntegerType(), True),\n",
    "    StructField(\"shotRebound\", IntegerType(), True),\n",
    "    StructField(\"shotRush\", IntegerType(), True),\n",
    "    StructField(\"shotType\", StringType(), True),\n",
    "    StructField(\"speedFromLastEvent\", FloatType(), True),\n",
    "    StructField(\"team\", StringType(), True),\n",
    "    StructField(\"teamCode\", StringType(), True),\n",
    "    StructField(\"time\", IntegerType(), True),\n",
    "    StructField(\"timeDifferenceSinceChange\", IntegerType(), True),\n",
    "    StructField(\"timeSinceFaceoff\", IntegerType(), True),\n",
    "    StructField(\"timeSinceLastEvent\", IntegerType(), True),\n",
    "    StructField(\"xCord\", IntegerType(), True),\n",
    "    StructField(\"xCordAdjusted\", IntegerType(), True),\n",
    "    StructField(\"yCord\", IntegerType(), True),\n",
    "    StructField(\"yCordAdjusted\", IntegerType(), True)\n",
    "])"
   ]
  },
  {
   "cell_type": "markdown",
   "id": "d4b4a11a-e92c-4516-8e5a-70fb61be7a68",
   "metadata": {},
   "source": [
    "Now that we have the schema made, we can use `spark.createDataFrame()` to create a Spark DataFrame from the pandas data frame."
   ]
  },
  {
   "cell_type": "code",
   "execution_count": 6,
   "id": "39877d84-8abf-4d4a-8d4b-eca599aea06a",
   "metadata": {},
   "outputs": [
    {
     "data": {
      "text/plain": [
       "pyspark.sql.dataframe.DataFrame"
      ]
     },
     "execution_count": 6,
     "metadata": {},
     "output_type": "execute_result"
    }
   ],
   "source": [
    "# create a spark DataFrame using the aforementioned schema\n",
    "nhl_spark = spark.createDataFrame(nhl_shots, schema = nhl_schema)\n",
    "# Check to see that it is a pyspark DataFrame\n",
    "type(nhl_spark)"
   ]
  },
  {
   "cell_type": "markdown",
   "id": "c31eb72e-56e0-4524-970d-f91fcc4c6fcc",
   "metadata": {},
   "source": [
    "## Supervised Learning and the Training and Test Split"
   ]
  },
  {
   "cell_type": "markdown",
   "id": "b8dc612e-7b2f-417b-a2e1-019a9fbf009d",
   "metadata": {},
   "source": [
    "It is important to split our data set into training and holdout (test) sets. If we train the models on 100% of the data set, there is a greater risk of overfitting. Evaluating different model fits on data that the models were not trained on gives a much more independent evaluation. The test set is generally 20% to 30% of the data set, with the rest going into the training set.  We can split the data using the `.randomSplit()` method."
   ]
  },
  {
   "cell_type": "code",
   "execution_count": 7,
   "id": "a79bc073-1104-433c-9303-d950d6d7975e",
   "metadata": {},
   "outputs": [
    {
     "name": "stdout",
     "output_type": "stream",
     "text": [
      "91014 30457\n"
     ]
    }
   ],
   "source": [
    "# split data into train and test groups\n",
    "train_proportion = 0.75\n",
    "\n",
    "train, test = nhl_spark.randomSplit([train_proportion, (1 - train_proportion)], seed = 19)\n",
    "print(train.count(), test.count())"
   ]
  },
  {
   "cell_type": "markdown",
   "id": "2c384e5a-1cb8-4bba-8472-8d1ca1bd2b3a",
   "metadata": {},
   "source": [
    "We'll have roughly 91,000 observations in our training set and 30,000 in the test set."
   ]
  },
  {
   "cell_type": "markdown",
   "id": "daf22dd7-e903-4c25-b191-8a75142c6f55",
   "metadata": {},
   "source": [
    "A supervised learning problem requires that we supply a response variable, which is the outcome(s) we are trying to predict, and a set of predictor variables to predict those outcomes. The models we fit will attempt to optimize the predictiveness of the model based on the loss function we choose, which in this case will be the AUROC, or the area under the ROC curve.  This measures the true positive rate against the false positive rate, and the area under that curve is the value of this measurement.  For context, it essentially measures the proportion of correctly predicted goals against the proportion of incorrectly predicted goals.  We will be trying to get models that have the highest AUC possible.  A completely random classifier would have an AUC of 0.5.  This is a widely accepted and common method for evaluating binary classification models."
   ]
  },
  {
   "cell_type": "markdown",
   "id": "2fa4596c-6766-4003-bc84-95a25563c461",
   "metadata": {},
   "source": [
    "We also need to cross-validate our models when fitting them.  Cross validation is particularly useful when choosing values for certain tuning parameters that determine how the models are fit.  For example, there are different tuning parameters to consider for a random forest model. One of those is m, which represents the number of variables to randomly subset to for each generated tree. Another is the maximum depth of trees fit to make up the random forest model. Cross validation gives us the option to choose a few different values of those parameters to try, and will tell us the overall performance on the training set for each model with different values of those parameters. This is important because we usually will not know which values to set for those parameters. The cross validation algorithm uses a subset of the training data to train the model on, then uses the remainder as held-out data.  It evaluates that model on the held-out data then moves on to the next subset of data and repeats the process.  It repeats this process k times (or folds), which is specified by the user in the function call."
   ]
  },
  {
   "cell_type": "markdown",
   "id": "55abc469-6e5e-4d16-80f0-cf99200db94d",
   "metadata": {},
   "source": [
    "## Exploratory Data Analysis"
   ]
  },
  {
   "cell_type": "markdown",
   "id": "4268623b-b53c-45bc-a63a-e251af93a3eb",
   "metadata": {},
   "source": [
    "First, we need to import some functions from the spark ML libraries. Statistics, KernelDensity and Correlation are for part of the exploratory analysis. SQLTransformer, VectorAssembler, and Interaction are for creating new features. Finally, the Pipeline is for bringing together all of these components into a defined set of actions in our Spark model fitting pipelines."
   ]
  },
  {
   "cell_type": "code",
   "execution_count": 8,
   "id": "b7fb3260-1d32-413e-ac6a-bc7ad2617cf4",
   "metadata": {},
   "outputs": [],
   "source": [
    "# Import functions\n",
    "from pyspark.mllib.stat import Statistics\n",
    "from pyspark.mllib.stat import KernelDensity\n",
    "from pyspark.ml.stat import Correlation\n",
    "from pyspark.ml.feature import SQLTransformer, VectorAssembler, Interaction, PCA\n",
    "from pyspark.ml.linalg import Vectors\n",
    "from pyspark.ml import Pipeline"
   ]
  },
  {
   "cell_type": "markdown",
   "id": "abc28420-d07d-4032-95cd-4b39845ceb9a",
   "metadata": {},
   "source": [
    "We also need to set up the plotting back end library for pyspark. There are two options, `plotly` and `matplotlib`, for this plotting. We'll opt for `matplotlib` for now."
   ]
  },
  {
   "cell_type": "code",
   "execution_count": 9,
   "id": "409b7006-60a3-4b1b-9809-88cae547ba04",
   "metadata": {},
   "outputs": [],
   "source": [
    "# setting up the back end plotting library for pyspark\n",
    "ps.options.plotting.backend = 'matplotlib'"
   ]
  },
  {
   "cell_type": "markdown",
   "id": "f8df37e9-7656-4a07-b817-848d6b53d0e8",
   "metadata": {},
   "source": [
    "We can look at the total shots on empty net goals using the `.groupBy()` and `.agg()` functions.  We can also find the percent of goals that were scored on empty net and non-empty net goals.  We can find the mean and standard deviations of shot distance and shot angle for each as well."
   ]
  },
  {
   "cell_type": "code",
   "execution_count": 10,
   "id": "0bb9959a-1d6f-4907-a62a-a544dd0b0bcc",
   "metadata": {},
   "outputs": [
    {
     "name": "stdout",
     "output_type": "stream",
     "text": [
      "+--------------+-----+----------------+----------------+------------------+-------------+---------------+\n",
      "|shotOnEmptyNet|shots|scoredPercentage|shotDistanceMean|shotDistanceStdDev|shotAngleMean|shotAngleStdDev|\n",
      "+--------------+-----+----------------+----------------+------------------+-------------+---------------+\n",
      "|0             |90420|0.0683          |33.43           |18.46             |30.53        |20.57          |\n",
      "|1             |594  |0.6364          |45.52           |25.91             |26.04        |21.83          |\n",
      "+--------------+-----+----------------+----------------+------------------+-------------+---------------+\n",
      "\n"
     ]
    }
   ],
   "source": [
    "# Group by shotOnEmptyNet, find the count, mean, and standard deviation of shot distance and angle for each group as well as scoring percentages\n",
    "train.groupBy(\"shotOnEmptyNet\") \\\n",
    ".agg(F.count(\"id\").alias(\"shots\"), \\\n",
    "     F.round(F.mean(\"goal\"), 4).alias(\"scoredPercentage\"), \\\n",
    "     F.round(F.mean(\"shotDistance\"), 2).alias(\"shotDistanceMean\"), \\\n",
    "     F.round(F.stddev(\"shotDistance\"), 2).alias(\"shotDistanceStdDev\"), \\\n",
    "     F.round(F.mean(\"shotAngleAdjusted\"), 2).alias(\"shotAngleMean\"), \\\n",
    "    F.round(F.stddev(\"shotAngleAdjusted\"), 2).alias(\"shotAngleStdDev\")) \\\n",
    ".sort(F.col(\"shotOnEmptyNet\")) \\\n",
    ".show(truncate = False)"
   ]
  },
  {
   "cell_type": "markdown",
   "id": "08b0809b-867d-4ef9-ad8d-7847c612788a",
   "metadata": {},
   "source": [
    "There are only 594 shots on empty nets in this training set, but they are scored 64% of the time! Intuitively, shooting on an empty net (when the opposing goalie has been taken off the ice) is much easier and typically happens only when the team shooting on the empty net is leading late in the game. We believe that removing those empty net shots from the data before model fitting would be a good idea given how drastic the difference is between shot conversion on those and non-empty net shots.  We will need to do this for both the training and testing set, as with all transformations of the data."
   ]
  },
  {
   "cell_type": "code",
   "execution_count": 11,
   "id": "d3906ced-e690-453e-bdd3-ad8ef768309e",
   "metadata": {},
   "outputs": [
    {
     "data": {
      "text/plain": [
       "90420"
      ]
     },
     "execution_count": 11,
     "metadata": {},
     "output_type": "execute_result"
    }
   ],
   "source": [
    "# Remove the empty net shots from both the training and testing sets\n",
    "train = train.where(F.col(\"shotOnEmptyNet\") == 0)\n",
    "test = test.where(F.col(\"shotOnEmptyNet\") == 0)\n",
    "# Display new count of training data\n",
    "train.count()"
   ]
  },
  {
   "cell_type": "markdown",
   "id": "917da1b7-f78e-4dfc-847c-03fbdea4776f",
   "metadata": {},
   "source": [
    "With the empty net shots removed, let's continue with the analysis to see which variables might be good predictors of whether a goal is scored on the shot.\n",
    "\n",
    "We can look at the scoring percentage for each type of shot.  There are seven different shot types, we can find the average shot distance and angle for each type of shot as well as the standard deviations for each of those.  Once again we are using `.groupBy()` to group these shot types and `.agg()` to find the means, standard deviations, counts, and scoring percentages here."
   ]
  },
  {
   "cell_type": "code",
   "execution_count": 12,
   "id": "29c63a58-4a85-4abd-a8b6-e508ddac3f92",
   "metadata": {},
   "outputs": [
    {
     "name": "stdout",
     "output_type": "stream",
     "text": [
      "+--------+-----+----------------+----------------+------------------+-------------+---------------+\n",
      "|shotType|shots|scoredPercentage|shotDistanceMean|shotDistanceStdDev|shotAngleMean|shotAngleStdDev|\n",
      "+--------+-----+----------------+----------------+------------------+-------------+---------------+\n",
      "|BACK    |6648 |0.088           |18.5            |14.64             |35.88        |24.25          |\n",
      "|DEFL    |2319 |0.092           |19.08           |15.98             |19.87        |17.89          |\n",
      "|NaN     |3    |0.667           |7.84            |2.49              |36.12        |25.83          |\n",
      "|SLAP    |12301|0.05            |47.48           |12.93             |26.33        |15.89          |\n",
      "|SNAP    |11567|0.086           |35.22           |15.19             |30.81        |19.16          |\n",
      "|TIP     |6296 |0.096           |16.72           |13.21             |19.25        |16.77          |\n",
      "|WRAP    |737  |0.041           |8.29            |6.27              |59.65        |19.2           |\n",
      "|WRIST   |50549|0.062           |34.67           |17.91             |32.26        |20.84          |\n",
      "+--------+-----+----------------+----------------+------------------+-------------+---------------+\n",
      "\n"
     ]
    }
   ],
   "source": [
    "# Produce summary statistics for each shot type\n",
    "train.groupBy(\"shotType\") \\\n",
    ".agg(F.count(\"id\").alias(\"shots\"), \\\n",
    "     F.round(F.mean(\"goal\"), 3).alias(\"scoredPercentage\"), \\\n",
    "     F.round(F.mean(\"shotDistance\"), 2).alias(\"shotDistanceMean\"), \\\n",
    "     F.round(F.stddev(\"shotDistance\"), 2).alias(\"shotDistanceStdDev\"), \\\n",
    "     F.round(F.mean(\"shotAngleAdjusted\"), 2).alias(\"shotAngleMean\"), \\\n",
    "    F.round(F.stddev(\"shotAngleAdjusted\"), 2).alias(\"shotAngleStdDev\")) \\\n",
    ".sort(F.col(\"shotType\")) \\\n",
    ".show(truncate = False)"
   ]
  },
  {
   "cell_type": "markdown",
   "id": "7f932c50-a528-4cc7-aec9-612a2a634ba4",
   "metadata": {},
   "source": [
    "There are plenty of useful observations from this summary of different shot types. In this summary, we excluded any empty net shots given those are a very small percentage of the sample and are scored at a much higher rate. We are looking at the number of shot attempts, percent of those attempts that were goals (scoredPercentage), mean and standard deviation of shot distance, and the mean and standard deviation of shot angle.\n",
    "- Deflections and tipped shots are scored at high rates and on average, are taken at angles closer in to 0 than other types of shots.\n",
    "- Slap shots are taken from the furthest average distance and are scored at a relatively low rate.\n",
    "- Snap shots, which are sort of somewhere in between a wrist shot and a slap shot in technique, are scored at a high rate.\n",
    "- Wraparound shots are taken, on average, much closer to the opposing goal and at a wider angle, on average. They are converted to goals at a low rate.\n",
    "- Wrist shots make up the vast majority of the shot attempts. This could be the reference category in a logistic regression model."
   ]
  },
  {
   "cell_type": "markdown",
   "id": "dfb7e589-2050-4bfd-9283-4d7f3a994267",
   "metadata": {},
   "source": [
    "We'd like to create some indicator (dummy) variables for the different shot types so those can be used in fitting models using the `.withColumns()` method.  Again, we need to repeat this process for the testing set as well."
   ]
  },
  {
   "cell_type": "code",
   "execution_count": 13,
   "id": "481b41d6-c9ef-49be-9bb8-dcd690aff6fe",
   "metadata": {},
   "outputs": [
    {
     "name": "stdout",
     "output_type": "stream",
     "text": [
      "+--------+-----------------+-------------------+-------------+-------------+------------+-------------+--------------+\n",
      "|shotType|shotType_Backhand|shotType_Deflection|shotType_Slap|shotType_Snap|shotType_Tip|shotType_Wrap|shotType_Wrist|\n",
      "+--------+-----------------+-------------------+-------------+-------------+------------+-------------+--------------+\n",
      "|    DEFL|                0|                  1|            0|            0|           0|            0|             0|\n",
      "|   WRIST|                0|                  0|            0|            0|           0|            0|             1|\n",
      "|   WRIST|                0|                  0|            0|            0|           0|            0|             1|\n",
      "|   WRIST|                0|                  0|            0|            0|           0|            0|             1|\n",
      "|    WRAP|                0|                  0|            0|            0|           0|            1|             0|\n",
      "|   WRIST|                0|                  0|            0|            0|           0|            0|             1|\n",
      "|   WRIST|                0|                  0|            0|            0|           0|            0|             1|\n",
      "|   WRIST|                0|                  0|            0|            0|           0|            0|             1|\n",
      "|    WRAP|                0|                  0|            0|            0|           0|            1|             0|\n",
      "|    BACK|                1|                  0|            0|            0|           0|            0|             0|\n",
      "|   WRIST|                0|                  0|            0|            0|           0|            0|             1|\n",
      "|   WRIST|                0|                  0|            0|            0|           0|            0|             1|\n",
      "|    BACK|                1|                  0|            0|            0|           0|            0|             0|\n",
      "|    BACK|                1|                  0|            0|            0|           0|            0|             0|\n",
      "|    WRAP|                0|                  0|            0|            0|           0|            1|             0|\n",
      "|    WRAP|                0|                  0|            0|            0|           0|            1|             0|\n",
      "|    WRAP|                0|                  0|            0|            0|           0|            1|             0|\n",
      "|    WRAP|                0|                  0|            0|            0|           0|            1|             0|\n",
      "|    BACK|                1|                  0|            0|            0|           0|            0|             0|\n",
      "|    BACK|                1|                  0|            0|            0|           0|            0|             0|\n",
      "+--------+-----------------+-------------------+-------------+-------------+------------+-------------+--------------+\n",
      "only showing top 20 rows\n",
      "\n"
     ]
    }
   ],
   "source": [
    "# create shot type dummy variables\n",
    "train = train.withColumn(\"shotType_Backhand\", F.when((train.shotType == \"BACK\"), 1).otherwise(0))\n",
    "train = train.withColumn(\"shotType_Deflection\", F.when((train.shotType == \"DEFL\"), 1).otherwise(0))\n",
    "train = train.withColumn(\"shotType_Slap\", F.when((train.shotType == \"SLAP\"), 1).otherwise(0))\n",
    "train = train.withColumn(\"shotType_Snap\", F.when((train.shotType == \"SNAP\"), 1).otherwise(0))\n",
    "train = train.withColumn(\"shotType_Tip\", F.when((train.shotType == \"TIP\"), 1).otherwise(0))\n",
    "train = train.withColumn(\"shotType_Wrap\", F.when((train.shotType == \"WRAP\"), 1).otherwise(0))\n",
    "train = train.withColumn(\"shotType_Wrist\", F.when((train.shotType == \"WRIST\"), 1).otherwise(0))\n",
    "\n",
    "test = test.withColumn(\"shotType_Backhand\", F.when((test.shotType == \"BACK\"), 1).otherwise(0))\n",
    "test = test.withColumn(\"shotType_Deflection\", F.when((test.shotType == \"DEFL\"), 1).otherwise(0))\n",
    "test = test.withColumn(\"shotType_Slap\", F.when((test.shotType == \"SLAP\"), 1).otherwise(0))\n",
    "test = test.withColumn(\"shotType_Snap\", F.when((test.shotType == \"SNAP\"), 1).otherwise(0))\n",
    "test = test.withColumn(\"shotType_Tip\", F.when((test.shotType == \"TIP\"), 1).otherwise(0))\n",
    "test = test.withColumn(\"shotType_Wrap\", F.when((test.shotType == \"WRAP\"), 1).otherwise(0))\n",
    "test = test.withColumn(\"shotType_Wrist\", F.when((test.shotType == \"WRIST\"), 1).otherwise(0))\n",
    "\n",
    "# look at some records for the new indicator variables for different shot types\n",
    "train.select([\"shotType\", \"shotType_Backhand\", \"shotType_Deflection\", \"shotType_Slap\",\n",
    "                 \"shotType_Snap\", \"shotType_Tip\", \"shotType_Wrap\", \"shotType_Wrist\"]).show(20)"
   ]
  },
  {
   "cell_type": "markdown",
   "id": "81ca6df0-ecd9-4bd4-9fe4-f077eaf387d0",
   "metadata": {},
   "source": [
    "Most of the shots are wrist shots, but above we can see some examples of the indicator variables that we created."
   ]
  },
  {
   "cell_type": "markdown",
   "id": "c9fcf51d-fd05-4514-b597-8fa70d9ef207",
   "metadata": {},
   "source": [
    "Next, we'd like to look at situations where the shooting team has more or fewer skaters on the ice than the defending team. This generally happens when a player or two take a penalty, however overtime periods are played at 3 on 3, and teams have the option to pull their goalies at any time for a 6th player. First, we need to look at the number of skaters on ice for each team and create variables for those. We already have the number of forwards and defencemen each team has on the ice, so adding those up gives us the number of skaters (goalies are not included).  We use the `.withColumn()` method here to create these new columns for the training and testing sets."
   ]
  },
  {
   "cell_type": "code",
   "execution_count": 14,
   "id": "3d1578bf-3e0c-4837-aa68-0bbe47181517",
   "metadata": {},
   "outputs": [],
   "source": [
    "# Create new skatersOnIce columns for training and testing sets\n",
    "train = train.withColumn(\"shootingTeamSkatersOnIce\", train.shootingTeamDefencemenOnIce + train.shootingTeamForwardsOnIce)\n",
    "train = train.withColumn(\"defendingTeamSkatersOnIce\", train.defendingTeamDefencemenOnIce + train.defendingTeamForwardsOnIce)\n",
    "\n",
    "test = test.withColumn(\"shootingTeamSkatersOnIce\", test.shootingTeamDefencemenOnIce + test.shootingTeamForwardsOnIce)\n",
    "test = test.withColumn(\"defendingTeamSkatersOnIce\", test.defendingTeamDefencemenOnIce + test.defendingTeamForwardsOnIce)"
   ]
  },
  {
   "cell_type": "code",
   "execution_count": 15,
   "id": "66dbd36b-22e2-407a-a70e-096c5ec73977",
   "metadata": {},
   "outputs": [
    {
     "name": "stdout",
     "output_type": "stream",
     "text": [
      "+------------------------+-------------------------+-----+----------------+----------------+------------------+-------------+---------------+\n",
      "|shootingTeamSkatersOnIce|defendingTeamSkatersOnIce|shots|scoredPercentage|shotDistanceMean|shotDistanceStdDev|shotAngleMean|shotAngleStdDev|\n",
      "+------------------------+-------------------------+-----+----------------+----------------+------------------+-------------+---------------+\n",
      "|3                       |3                        |979  |0.125           |24.49           |12.92             |27.17        |19.36          |\n",
      "|3                       |4                        |23   |0.087           |30.22           |19.73             |35.08        |19.87          |\n",
      "|3                       |5                        |22   |0.0             |36.28           |16.53             |30.26        |24.61          |\n",
      "|4                       |2                        |1    |0.0             |28.84           |null              |33.69        |null           |\n",
      "|4                       |3                        |197  |0.147           |28.94           |13.32             |30.48        |17.3           |\n",
      "|4                       |4                        |1120 |0.071           |30.17           |15.53             |30.51        |20.68          |\n",
      "|4                       |5                        |2301 |0.07            |31.44           |18.54             |32.82        |22.47          |\n",
      "|4                       |6                        |1    |0.0             |30.08           |null              |21.45        |null           |\n",
      "|4                       |7                        |1    |0.0             |48.84           |null              |42.51        |null           |\n",
      "|5                       |3                        |403  |0.146           |29.61           |14.04             |28.19        |20.91          |\n",
      "|5                       |4                        |11991|0.096           |30.95           |16.13             |28.54        |19.47          |\n",
      "|5                       |5                        |71528|0.062           |34.14           |18.89             |30.85        |20.65          |\n",
      "|5                       |6                        |4    |0.0             |44.94           |27.04             |27.68        |17.64          |\n",
      "|6                       |3                        |1    |0.0             |58.59           |null              |27.44        |null           |\n",
      "|6                       |4                        |229  |0.079           |31.17           |16.19             |28.99        |19.95          |\n",
      "|6                       |5                        |1617 |0.078           |32.64           |18.16             |30.81        |21.72          |\n",
      "|6                       |6                        |1    |0.0             |26.63           |null              |55.71        |null           |\n",
      "|7                       |5                        |1    |0.0             |54.08           |null              |33.69        |null           |\n",
      "+------------------------+-------------------------+-----+----------------+----------------+------------------+-------------+---------------+\n",
      "\n"
     ]
    }
   ],
   "source": [
    "# Find the counts, scored percentages, mean and sd of shot distances and shot angles for each combination of shooting and defending skaters on ice\n",
    "train.groupBy(\"shootingTeamSkatersOnIce\", \"defendingTeamSkatersOnIce\") \\\n",
    ".agg(F.count(\"id\").alias(\"shots\"), \\\n",
    "     F.round(F.mean(\"goal\"), 3).alias(\"scoredPercentage\"), \\\n",
    "     F.round(F.mean(\"shotDistance\"), 2).alias(\"shotDistanceMean\"), \\\n",
    "     F.round(F.stddev(\"shotDistance\"), 2).alias(\"shotDistanceStdDev\"), \\\n",
    "     F.round(F.mean(\"shotAngleAdjusted\"), 2).alias(\"shotAngleMean\"), \\\n",
    "    F.round(F.stddev(\"shotAngleAdjusted\"), 2).alias(\"shotAngleStdDev\")) \\\n",
    ".sort(F.col(\"shootingTeamSkatersOnIce\"), F.col(\"defendingTeamSkatersOnIce\")) \\\n",
    ".show(truncate = False)"
   ]
  },
  {
   "cell_type": "markdown",
   "id": "e8c9ca93-0321-46dc-8f57-8b4bed9da98c",
   "metadata": {},
   "source": [
    "There may be some data recording errors in the instances with more than 6 skaters on ice, but there are only a few records with that issue. The instances where the defending team has only one skater on the ice may be a data error or the result of a line change gone horribly wrong, where the defending team got all its skaters off the ice at an inopportune time. Given there are only a few records with those issues, it shouldn't cause a problem for our modeling of a data set with roughly 120,000 records.\n",
    "Our next step is to create indicator variables for when the shooting team is on the power play (more skaters on ice than the defending team), even strength (same number of skaters as the defending team), or the penalty kill (fewer skaters on ice than the defending team)."
   ]
  },
  {
   "cell_type": "code",
   "execution_count": 16,
   "id": "90a30e86-fdfa-4bfd-bfc9-c38e479fc24d",
   "metadata": {},
   "outputs": [],
   "source": [
    "# create indicator variables on power play, even strength, and penalty kill game situations for train set\n",
    "train = train.withColumn(\"powerPlay\", F.when((train.shootingTeamSkatersOnIce > train.defendingTeamSkatersOnIce), 1).otherwise(0))\n",
    "train = train.withColumn(\"evenStrength\", F.when((train.shootingTeamSkatersOnIce == train.defendingTeamSkatersOnIce), 1).otherwise(0))\n",
    "train = train.withColumn(\"penaltyKill\", F.when((train.shootingTeamSkatersOnIce < train.defendingTeamSkatersOnIce), 1).otherwise(0))\n",
    "\n",
    "# create indicator variables on power play, even strength, and penalty kill game situations for test set\n",
    "test = test.withColumn(\"powerPlay\", F.when((test.shootingTeamSkatersOnIce > test.defendingTeamSkatersOnIce), 1).otherwise(0))\n",
    "test = test.withColumn(\"evenStrength\", F.when((test.shootingTeamSkatersOnIce == test.defendingTeamSkatersOnIce), 1).otherwise(0))\n",
    "test = test.withColumn(\"penaltyKill\", F.when((test.shootingTeamSkatersOnIce < test.defendingTeamSkatersOnIce), 1).otherwise(0))"
   ]
  },
  {
   "cell_type": "markdown",
   "id": "6c958a23-1900-4ab9-a857-94b03ffd38ac",
   "metadata": {},
   "source": [
    "If we need to access the numeric columns in the dataframe, it will be nice to have those stored as a variable."
   ]
  },
  {
   "cell_type": "code",
   "execution_count": 17,
   "id": "c3fe4748-f65b-41c5-a80d-c0b1cf40c4ba",
   "metadata": {},
   "outputs": [
    {
     "data": {
      "text/plain": [
       "['arenaAdjustedShotDistance',\n",
       " 'arenaAdjustedXCord',\n",
       " 'arenaAdjustedXCordABS',\n",
       " 'arenaAdjustedYCord',\n",
       " 'arenaAdjustedYCordAbs',\n",
       " 'averageRestDifference',\n",
       " 'awayEmptyNet',\n",
       " 'awayPenalty1TimeLeft',\n",
       " 'awayPenalty1Length',\n",
       " 'awaySkatersOnIce',\n",
       " 'awayTeamGoals',\n",
       " 'defendingTeamAverageTimeOnIce',\n",
       " 'defendingTeamAverageTimeOnIceOfDefencemen',\n",
       " 'defendingTeamAverageTimeOnIceOfDefencemenSinceFaceoff',\n",
       " 'defendingTeamAverageTimeOnIceOfForwards',\n",
       " 'defendingTeamAverageTimeOnIceOfForwardsSinceFaceoff',\n",
       " 'defendingTeamAverageTimeOnIceSinceFaceoff',\n",
       " 'defendingTeamDefencemenOnIce',\n",
       " 'defendingTeamForwardsOnIce',\n",
       " 'defendingTeamMaxTimeOnIce',\n",
       " 'defendingTeamMaxTimeOnIceOfDefencemen',\n",
       " 'defendingTeamMaxTimeOnIceOfDefencemenSinceFaceoff',\n",
       " 'defendingTeamMaxTimeOnIceOfForwards',\n",
       " 'defendingTeamMaxTimeOnIceOfForwardsSinceFaceoff',\n",
       " 'defendingTeamMaxTimeOnIceSinceFaceoff',\n",
       " 'defendingTeamMinTimeOnIce',\n",
       " 'defendingTeamMinTimeOnIceOfDefencemen',\n",
       " 'defendingTeamMinTimeOnIceOfDefencemenSinceFaceoff',\n",
       " 'defendingTeamMinTimeOnIceOfForwards',\n",
       " 'defendingTeamMinTimeOnIceOfForwardsSinceFaceoff',\n",
       " 'defendingTeamMinTimeOnIceSinceFaceoff',\n",
       " 'distanceFromLastEvent',\n",
       " 'goal',\n",
       " 'goalieIDForShot',\n",
       " 'homeEmptyNet',\n",
       " 'homePenalty1TimeLeft',\n",
       " 'homePenalty1Length',\n",
       " 'homeSkatersOnIce',\n",
       " 'homeTeamGoals',\n",
       " 'id',\n",
       " 'isPlayoffGame',\n",
       " 'isHomeTeam',\n",
       " 'lastEventShotAngle',\n",
       " 'lastEventShotDistance',\n",
       " 'lastEventxCord',\n",
       " 'lastEventxCord_adjusted',\n",
       " 'lastEventyCord',\n",
       " 'lastEventyCord_adjusted',\n",
       " 'offWing',\n",
       " 'period',\n",
       " 'shooterPlayerID',\n",
       " 'shooterTimeOnIce',\n",
       " 'shooterTimeOnIceSinceFaceoff',\n",
       " 'shootingTeamAverageTimeOnIce',\n",
       " 'shootingTeamAverageTimeOnIceOfDefencemen',\n",
       " 'shootingTeamAverageTimeOnIceOfDefencemenSinceFaceoff',\n",
       " 'shootingTeamAverageTimeOnIceOfForwards',\n",
       " 'shootingTeamAverageTimeOnIceOfForwardsSinceFaceoff',\n",
       " 'shootingTeamAverageTimeOnIceSinceFaceoff',\n",
       " 'shootingTeamDefencemenOnIce',\n",
       " 'shootingTeamForwardsOnIce',\n",
       " 'shootingTeamMaxTimeOnIce',\n",
       " 'shootingTeamMaxTimeOnIceOfDefencemen',\n",
       " 'shootingTeamMaxTimeOnIceOfDefencemenSinceFaceoff',\n",
       " 'shootingTeamMaxTimeOnIceOfForwards',\n",
       " 'shootingTeamMaxTimeOnIceOfForwardsSinceFaceoff',\n",
       " 'shootingTeamMaxTimeOnIceSinceFaceoff',\n",
       " 'shootingTeamMinTimeOnIce',\n",
       " 'shootingTeamMinTimeOnIceOfDefencemen',\n",
       " 'shootingTeamMinTimeOnIceOfDefencemenSinceFaceoff',\n",
       " 'shootingTeamMinTimeOnIceOfForwards',\n",
       " 'shootingTeamMinTimeOnIceOfForwardsSinceFaceoff',\n",
       " 'shootingTeamMinTimeOnIceSinceFaceoff',\n",
       " 'shotAngle',\n",
       " 'shotAngleAdjusted',\n",
       " 'shotAnglePlusRebound',\n",
       " 'shotAnglePlusReboundSpeed',\n",
       " 'shotAngleReboundRoyalRoad',\n",
       " 'shotDistance',\n",
       " 'shotOnEmptyNet',\n",
       " 'shotRebound',\n",
       " 'shotRush',\n",
       " 'speedFromLastEvent',\n",
       " 'time',\n",
       " 'timeDifferenceSinceChange',\n",
       " 'timeSinceFaceoff',\n",
       " 'timeSinceLastEvent',\n",
       " 'xCord',\n",
       " 'xCordAdjusted',\n",
       " 'yCord',\n",
       " 'yCordAdjusted',\n",
       " 'shotType_Backhand',\n",
       " 'shotType_Deflection',\n",
       " 'shotType_Slap',\n",
       " 'shotType_Snap',\n",
       " 'shotType_Tip',\n",
       " 'shotType_Wrap',\n",
       " 'shotType_Wrist',\n",
       " 'shootingTeamSkatersOnIce',\n",
       " 'defendingTeamSkatersOnIce',\n",
       " 'powerPlay',\n",
       " 'evenStrength',\n",
       " 'penaltyKill']"
      ]
     },
     "execution_count": 17,
     "metadata": {},
     "output_type": "execute_result"
    }
   ],
   "source": [
    "# list of the int or float type columns in the spark data frame\n",
    "numeric_columns = [t[0] for t in train.dtypes if (t[1] == 'int' or t[1] == 'float')]\n",
    "numeric_columns"
   ]
  },
  {
   "cell_type": "markdown",
   "id": "7660d698-c5b3-4622-abee-0f5335e61fd2",
   "metadata": {},
   "source": [
    "With so many different variables to consider including as predictors, we'd like to look at the correlation between some of those variables. If we include multiple predictors with strong correlations between each other, that can lead to issues with the estimates of coefficients for those variables in a logistic regression model or cause problems for fitting tree-based models with those correlated predictors included. We created a function to calculate a correlation matrix for a specified set of numeric predictors in a specified data frame (we'll be using our nhl data in spark, obviously). This function will return a data frame of the correlation between variables with properly labeled columns and rows (using indices). The number in each cell will be the correlation between the variable in the row and the variable in the column."
   ]
  },
  {
   "cell_type": "code",
   "execution_count": 18,
   "id": "525ab405-c0ec-4b5d-a9dd-b642d4503bca",
   "metadata": {},
   "outputs": [],
   "source": [
    "# function to create a correlation matrix among the specified columns in the data frame\n",
    "## corr_columns_list is a list of the columns to calculate correlations between\n",
    "## ps_df is the spark data frame to use to calculate those correlations\n",
    "def get_corr_matrix_ps(corr_columns_list, ps_df):\n",
    "    vector_col_corr_matrix = \"correlation_features\"\n",
    "    \n",
    "    # a spark assembler to convert the specified columns into one column\n",
    "    assembler_corr_matrix = VectorAssembler(inputCols = corr_columns_list, outputCol = vector_col_corr_matrix, handleInvalid = 'keep')\n",
    "    \n",
    "    # select the output column from the above assembler as a vector\n",
    "    corr_matrix_vector = assembler_corr_matrix.transform(ps_df).select(vector_col_corr_matrix)\n",
    "    \n",
    "    # calculate the correlation between all variables converted into the above vector\n",
    "    corr_matrix = Correlation.corr(corr_matrix_vector, vector_col_corr_matrix)\n",
    "    \n",
    "    # convert the correlation matrix to an array\n",
    "    corr_matrix_np = corr_matrix.collect()[0][corr_matrix.columns[0]].toArray()\n",
    "    \n",
    "    # create a data frame of the numeric correlations\n",
    "    corr_matrix_df = ps.DataFrame(corr_matrix_np, index = corr_columns_list, columns = corr_columns_list)\n",
    "    \n",
    "    # return the correlation matrix\n",
    "    return(corr_matrix_df)"
   ]
  },
  {
   "cell_type": "markdown",
   "id": "e490bec8-ee4a-4e07-9bbb-a97f0a43641b",
   "metadata": {},
   "source": [
    "To start, we want to examine the many variables related to the time on ice for the defending team and the shooting team. Those variables will likely have fairly strong correlations with each other."
   ]
  },
  {
   "cell_type": "code",
   "execution_count": 19,
   "id": "0ceb2cba-7d22-4947-9325-185193c13976",
   "metadata": {},
   "outputs": [
    {
     "data": {
      "text/html": [
       "<div>\n",
       "<style scoped>\n",
       "    .dataframe tbody tr th:only-of-type {\n",
       "        vertical-align: middle;\n",
       "    }\n",
       "\n",
       "    .dataframe tbody tr th {\n",
       "        vertical-align: top;\n",
       "    }\n",
       "\n",
       "    .dataframe thead th {\n",
       "        text-align: right;\n",
       "    }\n",
       "</style>\n",
       "<table border=\"1\" class=\"dataframe\">\n",
       "  <thead>\n",
       "    <tr style=\"text-align: right;\">\n",
       "      <th></th>\n",
       "      <th>defendingTeamAverageTimeOnIce</th>\n",
       "      <th>defendingTeamAverageTimeOnIceOfDefencemen</th>\n",
       "      <th>defendingTeamAverageTimeOnIceOfDefencemenSinceFaceoff</th>\n",
       "      <th>defendingTeamAverageTimeOnIceOfForwards</th>\n",
       "      <th>defendingTeamAverageTimeOnIceOfForwardsSinceFaceoff</th>\n",
       "      <th>defendingTeamAverageTimeOnIceSinceFaceoff</th>\n",
       "      <th>defendingTeamMaxTimeOnIce</th>\n",
       "      <th>defendingTeamMaxTimeOnIceOfDefencemen</th>\n",
       "      <th>defendingTeamMaxTimeOnIceOfDefencemenSinceFaceoff</th>\n",
       "      <th>defendingTeamMaxTimeOnIceOfForwards</th>\n",
       "      <th>defendingTeamMaxTimeOnIceOfForwardsSinceFaceoff</th>\n",
       "      <th>defendingTeamMaxTimeOnIceSinceFaceoff</th>\n",
       "      <th>defendingTeamMinTimeOnIce</th>\n",
       "      <th>defendingTeamMinTimeOnIceOfDefencemen</th>\n",
       "      <th>defendingTeamMinTimeOnIceOfDefencemenSinceFaceoff</th>\n",
       "      <th>defendingTeamMinTimeOnIceOfForwards</th>\n",
       "      <th>defendingTeamMinTimeOnIceOfForwardsSinceFaceoff</th>\n",
       "      <th>defendingTeamMinTimeOnIceSinceFaceoff</th>\n",
       "    </tr>\n",
       "  </thead>\n",
       "  <tbody>\n",
       "    <tr>\n",
       "      <th>defendingTeamAverageTimeOnIce</th>\n",
       "      <td>1.000000</td>\n",
       "      <td>0.648362</td>\n",
       "      <td>0.516891</td>\n",
       "      <td>0.874030</td>\n",
       "      <td>0.749542</td>\n",
       "      <td>0.822835</td>\n",
       "      <td>0.834113</td>\n",
       "      <td>0.799744</td>\n",
       "      <td>0.680170</td>\n",
       "      <td>0.819881</td>\n",
       "      <td>0.695659</td>\n",
       "      <td>0.652936</td>\n",
       "      <td>0.745037</td>\n",
       "      <td>0.600008</td>\n",
       "      <td>0.498582</td>\n",
       "      <td>0.732819</td>\n",
       "      <td>0.659904</td>\n",
       "      <td>0.680047</td>\n",
       "    </tr>\n",
       "    <tr>\n",
       "      <th>defendingTeamAverageTimeOnIceOfDefencemen</th>\n",
       "      <td>0.648362</td>\n",
       "      <td>1.000000</td>\n",
       "      <td>0.889850</td>\n",
       "      <td>0.419180</td>\n",
       "      <td>0.380740</td>\n",
       "      <td>0.520258</td>\n",
       "      <td>0.614847</td>\n",
       "      <td>0.677714</td>\n",
       "      <td>0.525613</td>\n",
       "      <td>0.414260</td>\n",
       "      <td>0.375794</td>\n",
       "      <td>0.455980</td>\n",
       "      <td>0.420576</td>\n",
       "      <td>0.953869</td>\n",
       "      <td>0.875269</td>\n",
       "      <td>0.332656</td>\n",
       "      <td>0.313132</td>\n",
       "      <td>0.384535</td>\n",
       "    </tr>\n",
       "    <tr>\n",
       "      <th>defendingTeamAverageTimeOnIceOfDefencemenSinceFaceoff</th>\n",
       "      <td>0.516891</td>\n",
       "      <td>0.889850</td>\n",
       "      <td>1.000000</td>\n",
       "      <td>0.372118</td>\n",
       "      <td>0.478266</td>\n",
       "      <td>0.631536</td>\n",
       "      <td>0.446342</td>\n",
       "      <td>0.477493</td>\n",
       "      <td>0.636970</td>\n",
       "      <td>0.374585</td>\n",
       "      <td>0.495449</td>\n",
       "      <td>0.594603</td>\n",
       "      <td>0.355073</td>\n",
       "      <td>0.870031</td>\n",
       "      <td>0.970154</td>\n",
       "      <td>0.286327</td>\n",
       "      <td>0.370034</td>\n",
       "      <td>0.427425</td>\n",
       "    </tr>\n",
       "    <tr>\n",
       "      <th>defendingTeamAverageTimeOnIceOfForwards</th>\n",
       "      <td>0.874030</td>\n",
       "      <td>0.419180</td>\n",
       "      <td>0.372118</td>\n",
       "      <td>1.000000</td>\n",
       "      <td>0.845603</td>\n",
       "      <td>0.736993</td>\n",
       "      <td>0.646997</td>\n",
       "      <td>0.495220</td>\n",
       "      <td>0.480593</td>\n",
       "      <td>0.865311</td>\n",
       "      <td>0.701203</td>\n",
       "      <td>0.538466</td>\n",
       "      <td>0.720649</td>\n",
       "      <td>0.402862</td>\n",
       "      <td>0.362037</td>\n",
       "      <td>0.860292</td>\n",
       "      <td>0.770235</td>\n",
       "      <td>0.656961</td>\n",
       "    </tr>\n",
       "    <tr>\n",
       "      <th>defendingTeamAverageTimeOnIceOfForwardsSinceFaceoff</th>\n",
       "      <td>0.749542</td>\n",
       "      <td>0.380740</td>\n",
       "      <td>0.478266</td>\n",
       "      <td>0.845603</td>\n",
       "      <td>1.000000</td>\n",
       "      <td>0.904355</td>\n",
       "      <td>0.533594</td>\n",
       "      <td>0.453569</td>\n",
       "      <td>0.643554</td>\n",
       "      <td>0.697822</td>\n",
       "      <td>0.871287</td>\n",
       "      <td>0.727992</td>\n",
       "      <td>0.636880</td>\n",
       "      <td>0.363108</td>\n",
       "      <td>0.449225</td>\n",
       "      <td>0.747605</td>\n",
       "      <td>0.874999</td>\n",
       "      <td>0.739926</td>\n",
       "    </tr>\n",
       "    <tr>\n",
       "      <th>defendingTeamAverageTimeOnIceSinceFaceoff</th>\n",
       "      <td>0.822835</td>\n",
       "      <td>0.520258</td>\n",
       "      <td>0.631536</td>\n",
       "      <td>0.736993</td>\n",
       "      <td>0.904355</td>\n",
       "      <td>1.000000</td>\n",
       "      <td>0.638007</td>\n",
       "      <td>0.629254</td>\n",
       "      <td>0.858083</td>\n",
       "      <td>0.684562</td>\n",
       "      <td>0.880984</td>\n",
       "      <td>0.864693</td>\n",
       "      <td>0.643345</td>\n",
       "      <td>0.491656</td>\n",
       "      <td>0.590726</td>\n",
       "      <td>0.622518</td>\n",
       "      <td>0.755511</td>\n",
       "      <td>0.757150</td>\n",
       "    </tr>\n",
       "    <tr>\n",
       "      <th>defendingTeamMaxTimeOnIce</th>\n",
       "      <td>0.834113</td>\n",
       "      <td>0.614847</td>\n",
       "      <td>0.446342</td>\n",
       "      <td>0.646997</td>\n",
       "      <td>0.533594</td>\n",
       "      <td>0.638007</td>\n",
       "      <td>1.000000</td>\n",
       "      <td>0.866746</td>\n",
       "      <td>0.656368</td>\n",
       "      <td>0.745025</td>\n",
       "      <td>0.601038</td>\n",
       "      <td>0.702078</td>\n",
       "      <td>0.393887</td>\n",
       "      <td>0.473409</td>\n",
       "      <td>0.374360</td>\n",
       "      <td>0.415694</td>\n",
       "      <td>0.370363</td>\n",
       "      <td>0.358340</td>\n",
       "    </tr>\n",
       "    <tr>\n",
       "      <th>defendingTeamMaxTimeOnIceOfDefencemen</th>\n",
       "      <td>0.799744</td>\n",
       "      <td>0.677714</td>\n",
       "      <td>0.477493</td>\n",
       "      <td>0.495220</td>\n",
       "      <td>0.453569</td>\n",
       "      <td>0.629254</td>\n",
       "      <td>0.866746</td>\n",
       "      <td>1.000000</td>\n",
       "      <td>0.753336</td>\n",
       "      <td>0.498228</td>\n",
       "      <td>0.461551</td>\n",
       "      <td>0.621820</td>\n",
       "      <td>0.441837</td>\n",
       "      <td>0.513955</td>\n",
       "      <td>0.393555</td>\n",
       "      <td>0.382071</td>\n",
       "      <td>0.360268</td>\n",
       "      <td>0.402909</td>\n",
       "    </tr>\n",
       "    <tr>\n",
       "      <th>defendingTeamMaxTimeOnIceOfDefencemenSinceFaceoff</th>\n",
       "      <td>0.680170</td>\n",
       "      <td>0.525613</td>\n",
       "      <td>0.636970</td>\n",
       "      <td>0.480593</td>\n",
       "      <td>0.643554</td>\n",
       "      <td>0.858083</td>\n",
       "      <td>0.656368</td>\n",
       "      <td>0.753336</td>\n",
       "      <td>1.000000</td>\n",
       "      <td>0.494336</td>\n",
       "      <td>0.689541</td>\n",
       "      <td>0.896579</td>\n",
       "      <td>0.401613</td>\n",
       "      <td>0.421486</td>\n",
       "      <td>0.520201</td>\n",
       "      <td>0.356648</td>\n",
       "      <td>0.476748</td>\n",
       "      <td>0.502745</td>\n",
       "    </tr>\n",
       "    <tr>\n",
       "      <th>defendingTeamMaxTimeOnIceOfForwards</th>\n",
       "      <td>0.819881</td>\n",
       "      <td>0.414260</td>\n",
       "      <td>0.374585</td>\n",
       "      <td>0.865311</td>\n",
       "      <td>0.697822</td>\n",
       "      <td>0.684562</td>\n",
       "      <td>0.745025</td>\n",
       "      <td>0.498228</td>\n",
       "      <td>0.494336</td>\n",
       "      <td>1.000000</td>\n",
       "      <td>0.789651</td>\n",
       "      <td>0.616566</td>\n",
       "      <td>0.500269</td>\n",
       "      <td>0.384084</td>\n",
       "      <td>0.349800</td>\n",
       "      <td>0.553360</td>\n",
       "      <td>0.481905</td>\n",
       "      <td>0.451428</td>\n",
       "    </tr>\n",
       "    <tr>\n",
       "      <th>defendingTeamMaxTimeOnIceOfForwardsSinceFaceoff</th>\n",
       "      <td>0.695659</td>\n",
       "      <td>0.375794</td>\n",
       "      <td>0.495449</td>\n",
       "      <td>0.701203</td>\n",
       "      <td>0.871287</td>\n",
       "      <td>0.880984</td>\n",
       "      <td>0.601038</td>\n",
       "      <td>0.461551</td>\n",
       "      <td>0.689541</td>\n",
       "      <td>0.789651</td>\n",
       "      <td>1.000000</td>\n",
       "      <td>0.849300</td>\n",
       "      <td>0.432264</td>\n",
       "      <td>0.344537</td>\n",
       "      <td>0.446293</td>\n",
       "      <td>0.460078</td>\n",
       "      <td>0.587253</td>\n",
       "      <td>0.537213</td>\n",
       "    </tr>\n",
       "    <tr>\n",
       "      <th>defendingTeamMaxTimeOnIceSinceFaceoff</th>\n",
       "      <td>0.652936</td>\n",
       "      <td>0.455980</td>\n",
       "      <td>0.594603</td>\n",
       "      <td>0.538466</td>\n",
       "      <td>0.727992</td>\n",
       "      <td>0.864693</td>\n",
       "      <td>0.702078</td>\n",
       "      <td>0.621820</td>\n",
       "      <td>0.896579</td>\n",
       "      <td>0.616566</td>\n",
       "      <td>0.849300</td>\n",
       "      <td>1.000000</td>\n",
       "      <td>0.325028</td>\n",
       "      <td>0.369697</td>\n",
       "      <td>0.487690</td>\n",
       "      <td>0.340192</td>\n",
       "      <td>0.475398</td>\n",
       "      <td>0.434909</td>\n",
       "    </tr>\n",
       "    <tr>\n",
       "      <th>defendingTeamMinTimeOnIce</th>\n",
       "      <td>0.745037</td>\n",
       "      <td>0.420576</td>\n",
       "      <td>0.355073</td>\n",
       "      <td>0.720649</td>\n",
       "      <td>0.636880</td>\n",
       "      <td>0.643345</td>\n",
       "      <td>0.393887</td>\n",
       "      <td>0.441837</td>\n",
       "      <td>0.401613</td>\n",
       "      <td>0.500269</td>\n",
       "      <td>0.432264</td>\n",
       "      <td>0.325028</td>\n",
       "      <td>1.000000</td>\n",
       "      <td>0.460876</td>\n",
       "      <td>0.398975</td>\n",
       "      <td>0.849176</td>\n",
       "      <td>0.780220</td>\n",
       "      <td>0.918166</td>\n",
       "    </tr>\n",
       "    <tr>\n",
       "      <th>defendingTeamMinTimeOnIceOfDefencemen</th>\n",
       "      <td>0.600008</td>\n",
       "      <td>0.953869</td>\n",
       "      <td>0.870031</td>\n",
       "      <td>0.402862</td>\n",
       "      <td>0.363108</td>\n",
       "      <td>0.491656</td>\n",
       "      <td>0.473409</td>\n",
       "      <td>0.513955</td>\n",
       "      <td>0.421486</td>\n",
       "      <td>0.384084</td>\n",
       "      <td>0.344537</td>\n",
       "      <td>0.369697</td>\n",
       "      <td>0.460876</td>\n",
       "      <td>1.000000</td>\n",
       "      <td>0.912596</td>\n",
       "      <td>0.335152</td>\n",
       "      <td>0.313192</td>\n",
       "      <td>0.421184</td>\n",
       "    </tr>\n",
       "    <tr>\n",
       "      <th>defendingTeamMinTimeOnIceOfDefencemenSinceFaceoff</th>\n",
       "      <td>0.498582</td>\n",
       "      <td>0.875269</td>\n",
       "      <td>0.970154</td>\n",
       "      <td>0.362037</td>\n",
       "      <td>0.449225</td>\n",
       "      <td>0.590726</td>\n",
       "      <td>0.374360</td>\n",
       "      <td>0.393555</td>\n",
       "      <td>0.520201</td>\n",
       "      <td>0.349800</td>\n",
       "      <td>0.446293</td>\n",
       "      <td>0.487690</td>\n",
       "      <td>0.398975</td>\n",
       "      <td>0.912596</td>\n",
       "      <td>1.000000</td>\n",
       "      <td>0.294774</td>\n",
       "      <td>0.367199</td>\n",
       "      <td>0.464117</td>\n",
       "    </tr>\n",
       "    <tr>\n",
       "      <th>defendingTeamMinTimeOnIceOfForwards</th>\n",
       "      <td>0.732819</td>\n",
       "      <td>0.332656</td>\n",
       "      <td>0.286327</td>\n",
       "      <td>0.860292</td>\n",
       "      <td>0.747605</td>\n",
       "      <td>0.622518</td>\n",
       "      <td>0.415694</td>\n",
       "      <td>0.382071</td>\n",
       "      <td>0.356648</td>\n",
       "      <td>0.553360</td>\n",
       "      <td>0.460078</td>\n",
       "      <td>0.340192</td>\n",
       "      <td>0.849176</td>\n",
       "      <td>0.335152</td>\n",
       "      <td>0.294774</td>\n",
       "      <td>1.000000</td>\n",
       "      <td>0.899515</td>\n",
       "      <td>0.779626</td>\n",
       "    </tr>\n",
       "    <tr>\n",
       "      <th>defendingTeamMinTimeOnIceOfForwardsSinceFaceoff</th>\n",
       "      <td>0.659904</td>\n",
       "      <td>0.313132</td>\n",
       "      <td>0.370034</td>\n",
       "      <td>0.770235</td>\n",
       "      <td>0.874999</td>\n",
       "      <td>0.755511</td>\n",
       "      <td>0.370363</td>\n",
       "      <td>0.360268</td>\n",
       "      <td>0.476748</td>\n",
       "      <td>0.481905</td>\n",
       "      <td>0.587253</td>\n",
       "      <td>0.475398</td>\n",
       "      <td>0.780220</td>\n",
       "      <td>0.313192</td>\n",
       "      <td>0.367199</td>\n",
       "      <td>0.899515</td>\n",
       "      <td>1.000000</td>\n",
       "      <td>0.863795</td>\n",
       "    </tr>\n",
       "    <tr>\n",
       "      <th>defendingTeamMinTimeOnIceSinceFaceoff</th>\n",
       "      <td>0.680047</td>\n",
       "      <td>0.384535</td>\n",
       "      <td>0.427425</td>\n",
       "      <td>0.656961</td>\n",
       "      <td>0.739926</td>\n",
       "      <td>0.757150</td>\n",
       "      <td>0.358340</td>\n",
       "      <td>0.402909</td>\n",
       "      <td>0.502745</td>\n",
       "      <td>0.451428</td>\n",
       "      <td>0.537213</td>\n",
       "      <td>0.434909</td>\n",
       "      <td>0.918166</td>\n",
       "      <td>0.421184</td>\n",
       "      <td>0.464117</td>\n",
       "      <td>0.779626</td>\n",
       "      <td>0.863795</td>\n",
       "      <td>1.000000</td>\n",
       "    </tr>\n",
       "  </tbody>\n",
       "</table>\n",
       "</div>"
      ],
      "text/plain": [
       "                                                       defendingTeamAverageTimeOnIce  defendingTeamAverageTimeOnIceOfDefencemen  defendingTeamAverageTimeOnIceOfDefencemenSinceFaceoff  defendingTeamAverageTimeOnIceOfForwards  defendingTeamAverageTimeOnIceOfForwardsSinceFaceoff  defendingTeamAverageTimeOnIceSinceFaceoff  defendingTeamMaxTimeOnIce  defendingTeamMaxTimeOnIceOfDefencemen  defendingTeamMaxTimeOnIceOfDefencemenSinceFaceoff  defendingTeamMaxTimeOnIceOfForwards  defendingTeamMaxTimeOnIceOfForwardsSinceFaceoff  defendingTeamMaxTimeOnIceSinceFaceoff  defendingTeamMinTimeOnIce  defendingTeamMinTimeOnIceOfDefencemen  defendingTeamMinTimeOnIceOfDefencemenSinceFaceoff  defendingTeamMinTimeOnIceOfForwards  defendingTeamMinTimeOnIceOfForwardsSinceFaceoff  defendingTeamMinTimeOnIceSinceFaceoff\n",
       "defendingTeamAverageTimeOnIce                                               1.000000                                   0.648362                                               0.516891                                 0.874030                                             0.749542                                   0.822835                   0.834113                               0.799744                                           0.680170                             0.819881                                         0.695659                               0.652936                   0.745037                               0.600008                                           0.498582                             0.732819                                         0.659904                               0.680047\n",
       "defendingTeamAverageTimeOnIceOfDefencemen                                   0.648362                                   1.000000                                               0.889850                                 0.419180                                             0.380740                                   0.520258                   0.614847                               0.677714                                           0.525613                             0.414260                                         0.375794                               0.455980                   0.420576                               0.953869                                           0.875269                             0.332656                                         0.313132                               0.384535\n",
       "defendingTeamAverageTimeOnIceOfDefencemenSinceFaceoff                       0.516891                                   0.889850                                               1.000000                                 0.372118                                             0.478266                                   0.631536                   0.446342                               0.477493                                           0.636970                             0.374585                                         0.495449                               0.594603                   0.355073                               0.870031                                           0.970154                             0.286327                                         0.370034                               0.427425\n",
       "defendingTeamAverageTimeOnIceOfForwards                                     0.874030                                   0.419180                                               0.372118                                 1.000000                                             0.845603                                   0.736993                   0.646997                               0.495220                                           0.480593                             0.865311                                         0.701203                               0.538466                   0.720649                               0.402862                                           0.362037                             0.860292                                         0.770235                               0.656961\n",
       "defendingTeamAverageTimeOnIceOfForwardsSinceFaceoff                         0.749542                                   0.380740                                               0.478266                                 0.845603                                             1.000000                                   0.904355                   0.533594                               0.453569                                           0.643554                             0.697822                                         0.871287                               0.727992                   0.636880                               0.363108                                           0.449225                             0.747605                                         0.874999                               0.739926\n",
       "defendingTeamAverageTimeOnIceSinceFaceoff                                   0.822835                                   0.520258                                               0.631536                                 0.736993                                             0.904355                                   1.000000                   0.638007                               0.629254                                           0.858083                             0.684562                                         0.880984                               0.864693                   0.643345                               0.491656                                           0.590726                             0.622518                                         0.755511                               0.757150\n",
       "defendingTeamMaxTimeOnIce                                                   0.834113                                   0.614847                                               0.446342                                 0.646997                                             0.533594                                   0.638007                   1.000000                               0.866746                                           0.656368                             0.745025                                         0.601038                               0.702078                   0.393887                               0.473409                                           0.374360                             0.415694                                         0.370363                               0.358340\n",
       "defendingTeamMaxTimeOnIceOfDefencemen                                       0.799744                                   0.677714                                               0.477493                                 0.495220                                             0.453569                                   0.629254                   0.866746                               1.000000                                           0.753336                             0.498228                                         0.461551                               0.621820                   0.441837                               0.513955                                           0.393555                             0.382071                                         0.360268                               0.402909\n",
       "defendingTeamMaxTimeOnIceOfDefencemenSinceFaceoff                           0.680170                                   0.525613                                               0.636970                                 0.480593                                             0.643554                                   0.858083                   0.656368                               0.753336                                           1.000000                             0.494336                                         0.689541                               0.896579                   0.401613                               0.421486                                           0.520201                             0.356648                                         0.476748                               0.502745\n",
       "defendingTeamMaxTimeOnIceOfForwards                                         0.819881                                   0.414260                                               0.374585                                 0.865311                                             0.697822                                   0.684562                   0.745025                               0.498228                                           0.494336                             1.000000                                         0.789651                               0.616566                   0.500269                               0.384084                                           0.349800                             0.553360                                         0.481905                               0.451428\n",
       "defendingTeamMaxTimeOnIceOfForwardsSinceFaceoff                             0.695659                                   0.375794                                               0.495449                                 0.701203                                             0.871287                                   0.880984                   0.601038                               0.461551                                           0.689541                             0.789651                                         1.000000                               0.849300                   0.432264                               0.344537                                           0.446293                             0.460078                                         0.587253                               0.537213\n",
       "defendingTeamMaxTimeOnIceSinceFaceoff                                       0.652936                                   0.455980                                               0.594603                                 0.538466                                             0.727992                                   0.864693                   0.702078                               0.621820                                           0.896579                             0.616566                                         0.849300                               1.000000                   0.325028                               0.369697                                           0.487690                             0.340192                                         0.475398                               0.434909\n",
       "defendingTeamMinTimeOnIce                                                   0.745037                                   0.420576                                               0.355073                                 0.720649                                             0.636880                                   0.643345                   0.393887                               0.441837                                           0.401613                             0.500269                                         0.432264                               0.325028                   1.000000                               0.460876                                           0.398975                             0.849176                                         0.780220                               0.918166\n",
       "defendingTeamMinTimeOnIceOfDefencemen                                       0.600008                                   0.953869                                               0.870031                                 0.402862                                             0.363108                                   0.491656                   0.473409                               0.513955                                           0.421486                             0.384084                                         0.344537                               0.369697                   0.460876                               1.000000                                           0.912596                             0.335152                                         0.313192                               0.421184\n",
       "defendingTeamMinTimeOnIceOfDefencemenSinceFaceoff                           0.498582                                   0.875269                                               0.970154                                 0.362037                                             0.449225                                   0.590726                   0.374360                               0.393555                                           0.520201                             0.349800                                         0.446293                               0.487690                   0.398975                               0.912596                                           1.000000                             0.294774                                         0.367199                               0.464117\n",
       "defendingTeamMinTimeOnIceOfForwards                                         0.732819                                   0.332656                                               0.286327                                 0.860292                                             0.747605                                   0.622518                   0.415694                               0.382071                                           0.356648                             0.553360                                         0.460078                               0.340192                   0.849176                               0.335152                                           0.294774                             1.000000                                         0.899515                               0.779626\n",
       "defendingTeamMinTimeOnIceOfForwardsSinceFaceoff                             0.659904                                   0.313132                                               0.370034                                 0.770235                                             0.874999                                   0.755511                   0.370363                               0.360268                                           0.476748                             0.481905                                         0.587253                               0.475398                   0.780220                               0.313192                                           0.367199                             0.899515                                         1.000000                               0.863795\n",
       "defendingTeamMinTimeOnIceSinceFaceoff                                       0.680047                                   0.384535                                               0.427425                                 0.656961                                             0.739926                                   0.757150                   0.358340                               0.402909                                           0.502745                             0.451428                                         0.537213                               0.434909                   0.918166                               0.421184                                           0.464117                             0.779626                                         0.863795                               1.000000"
      ]
     },
     "execution_count": 19,
     "metadata": {},
     "output_type": "execute_result"
    }
   ],
   "source": [
    "# list of columns related to the defending team time on ice\n",
    "columns_defending_team_toi = ['defendingTeamAverageTimeOnIce', 'defendingTeamAverageTimeOnIceOfDefencemen',\n",
    "                              'defendingTeamAverageTimeOnIceOfDefencemenSinceFaceoff', 'defendingTeamAverageTimeOnIceOfForwards',\n",
    "                              'defendingTeamAverageTimeOnIceOfForwardsSinceFaceoff', 'defendingTeamAverageTimeOnIceSinceFaceoff',\n",
    "                              'defendingTeamMaxTimeOnIce', 'defendingTeamMaxTimeOnIceOfDefencemen',\n",
    "                              'defendingTeamMaxTimeOnIceOfDefencemenSinceFaceoff', 'defendingTeamMaxTimeOnIceOfForwards',\n",
    "                              'defendingTeamMaxTimeOnIceOfForwardsSinceFaceoff', 'defendingTeamMaxTimeOnIceSinceFaceoff',\n",
    "                              'defendingTeamMinTimeOnIce', 'defendingTeamMinTimeOnIceOfDefencemen',\n",
    "                              'defendingTeamMinTimeOnIceOfDefencemenSinceFaceoff', 'defendingTeamMinTimeOnIceOfForwards', \n",
    "                              'defendingTeamMinTimeOnIceOfForwardsSinceFaceoff', 'defendingTeamMinTimeOnIceSinceFaceoff']\n",
    "\n",
    "# get the correlation matrix for those columns\n",
    "get_corr_matrix_ps(corr_columns_list = columns_defending_team_toi, ps_df = train)"
   ]
  },
  {
   "cell_type": "markdown",
   "id": "aa2f1425-520c-4210-aff4-3e3287ed117a",
   "metadata": {},
   "source": [
    "The same thing is true for the variables related to the time on ice for the shooting team. Let's take a look at the correlation between those variables."
   ]
  },
  {
   "cell_type": "code",
   "execution_count": 20,
   "id": "313d2809-6231-48dc-87b1-db7cc22044bc",
   "metadata": {},
   "outputs": [
    {
     "data": {
      "text/html": [
       "<div>\n",
       "<style scoped>\n",
       "    .dataframe tbody tr th:only-of-type {\n",
       "        vertical-align: middle;\n",
       "    }\n",
       "\n",
       "    .dataframe tbody tr th {\n",
       "        vertical-align: top;\n",
       "    }\n",
       "\n",
       "    .dataframe thead th {\n",
       "        text-align: right;\n",
       "    }\n",
       "</style>\n",
       "<table border=\"1\" class=\"dataframe\">\n",
       "  <thead>\n",
       "    <tr style=\"text-align: right;\">\n",
       "      <th></th>\n",
       "      <th>shootingTeamAverageTimeOnIce</th>\n",
       "      <th>shootingTeamAverageTimeOnIceOfDefencemen</th>\n",
       "      <th>shootingTeamAverageTimeOnIceOfDefencemenSinceFaceoff</th>\n",
       "      <th>shootingTeamAverageTimeOnIceOfForwards</th>\n",
       "      <th>shootingTeamAverageTimeOnIceOfForwardsSinceFaceoff</th>\n",
       "      <th>shootingTeamAverageTimeOnIceSinceFaceoff</th>\n",
       "      <th>shootingTeamMaxTimeOnIce</th>\n",
       "      <th>shootingTeamMaxTimeOnIceOfDefencemen</th>\n",
       "      <th>shootingTeamMaxTimeOnIceOfDefencemenSinceFaceoff</th>\n",
       "      <th>shootingTeamMaxTimeOnIceOfForwards</th>\n",
       "      <th>shootingTeamMaxTimeOnIceOfForwardsSinceFaceoff</th>\n",
       "      <th>shootingTeamMaxTimeOnIceSinceFaceoff</th>\n",
       "      <th>shootingTeamMinTimeOnIce</th>\n",
       "      <th>shootingTeamMinTimeOnIceOfDefencemen</th>\n",
       "      <th>shootingTeamMinTimeOnIceOfDefencemenSinceFaceoff</th>\n",
       "      <th>shootingTeamMinTimeOnIceOfForwards</th>\n",
       "      <th>shootingTeamMinTimeOnIceOfForwardsSinceFaceoff</th>\n",
       "      <th>shootingTeamMinTimeOnIceSinceFaceoff</th>\n",
       "    </tr>\n",
       "  </thead>\n",
       "  <tbody>\n",
       "    <tr>\n",
       "      <th>shootingTeamAverageTimeOnIce</th>\n",
       "      <td>1.000000</td>\n",
       "      <td>0.421266</td>\n",
       "      <td>0.306190</td>\n",
       "      <td>0.931468</td>\n",
       "      <td>0.752613</td>\n",
       "      <td>0.810971</td>\n",
       "      <td>0.851090</td>\n",
       "      <td>0.774810</td>\n",
       "      <td>0.655053</td>\n",
       "      <td>0.843374</td>\n",
       "      <td>0.634135</td>\n",
       "      <td>0.601800</td>\n",
       "      <td>0.766299</td>\n",
       "      <td>0.405442</td>\n",
       "      <td>0.300473</td>\n",
       "      <td>0.790368</td>\n",
       "      <td>0.705438</td>\n",
       "      <td>0.698954</td>\n",
       "    </tr>\n",
       "    <tr>\n",
       "      <th>shootingTeamAverageTimeOnIceOfDefencemen</th>\n",
       "      <td>0.421266</td>\n",
       "      <td>1.000000</td>\n",
       "      <td>0.958258</td>\n",
       "      <td>0.306036</td>\n",
       "      <td>0.236506</td>\n",
       "      <td>0.322137</td>\n",
       "      <td>0.362912</td>\n",
       "      <td>0.371625</td>\n",
       "      <td>0.258687</td>\n",
       "      <td>0.287384</td>\n",
       "      <td>0.188440</td>\n",
       "      <td>0.207377</td>\n",
       "      <td>0.361534</td>\n",
       "      <td>0.987933</td>\n",
       "      <td>0.954707</td>\n",
       "      <td>0.258721</td>\n",
       "      <td>0.234683</td>\n",
       "      <td>0.334050</td>\n",
       "    </tr>\n",
       "    <tr>\n",
       "      <th>shootingTeamAverageTimeOnIceOfDefencemenSinceFaceoff</th>\n",
       "      <td>0.306190</td>\n",
       "      <td>0.958258</td>\n",
       "      <td>1.000000</td>\n",
       "      <td>0.239416</td>\n",
       "      <td>0.265771</td>\n",
       "      <td>0.345162</td>\n",
       "      <td>0.234447</td>\n",
       "      <td>0.201356</td>\n",
       "      <td>0.273902</td>\n",
       "      <td>0.221422</td>\n",
       "      <td>0.233999</td>\n",
       "      <td>0.260816</td>\n",
       "      <td>0.286347</td>\n",
       "      <td>0.950290</td>\n",
       "      <td>0.991613</td>\n",
       "      <td>0.210082</td>\n",
       "      <td>0.240642</td>\n",
       "      <td>0.314360</td>\n",
       "    </tr>\n",
       "    <tr>\n",
       "      <th>shootingTeamAverageTimeOnIceOfForwards</th>\n",
       "      <td>0.931468</td>\n",
       "      <td>0.306036</td>\n",
       "      <td>0.239416</td>\n",
       "      <td>1.000000</td>\n",
       "      <td>0.821353</td>\n",
       "      <td>0.777987</td>\n",
       "      <td>0.790810</td>\n",
       "      <td>0.538370</td>\n",
       "      <td>0.501859</td>\n",
       "      <td>0.905723</td>\n",
       "      <td>0.705571</td>\n",
       "      <td>0.615333</td>\n",
       "      <td>0.665220</td>\n",
       "      <td>0.297741</td>\n",
       "      <td>0.232649</td>\n",
       "      <td>0.842140</td>\n",
       "      <td>0.751336</td>\n",
       "      <td>0.603443</td>\n",
       "    </tr>\n",
       "    <tr>\n",
       "      <th>shootingTeamAverageTimeOnIceOfForwardsSinceFaceoff</th>\n",
       "      <td>0.752613</td>\n",
       "      <td>0.236506</td>\n",
       "      <td>0.265771</td>\n",
       "      <td>0.821353</td>\n",
       "      <td>1.000000</td>\n",
       "      <td>0.943712</td>\n",
       "      <td>0.608104</td>\n",
       "      <td>0.435734</td>\n",
       "      <td>0.636099</td>\n",
       "      <td>0.703138</td>\n",
       "      <td>0.906429</td>\n",
       "      <td>0.825436</td>\n",
       "      <td>0.563088</td>\n",
       "      <td>0.224144</td>\n",
       "      <td>0.247090</td>\n",
       "      <td>0.748177</td>\n",
       "      <td>0.867464</td>\n",
       "      <td>0.652691</td>\n",
       "    </tr>\n",
       "    <tr>\n",
       "      <th>shootingTeamAverageTimeOnIceSinceFaceoff</th>\n",
       "      <td>0.810971</td>\n",
       "      <td>0.322137</td>\n",
       "      <td>0.345162</td>\n",
       "      <td>0.777987</td>\n",
       "      <td>0.943712</td>\n",
       "      <td>1.000000</td>\n",
       "      <td>0.636523</td>\n",
       "      <td>0.600327</td>\n",
       "      <td>0.823585</td>\n",
       "      <td>0.669122</td>\n",
       "      <td>0.852002</td>\n",
       "      <td>0.839213</td>\n",
       "      <td>0.665061</td>\n",
       "      <td>0.307686</td>\n",
       "      <td>0.325834</td>\n",
       "      <td>0.710883</td>\n",
       "      <td>0.826736</td>\n",
       "      <td>0.760101</td>\n",
       "    </tr>\n",
       "    <tr>\n",
       "      <th>shootingTeamMaxTimeOnIce</th>\n",
       "      <td>0.851090</td>\n",
       "      <td>0.362912</td>\n",
       "      <td>0.234447</td>\n",
       "      <td>0.790810</td>\n",
       "      <td>0.608104</td>\n",
       "      <td>0.636523</td>\n",
       "      <td>1.000000</td>\n",
       "      <td>0.734050</td>\n",
       "      <td>0.538843</td>\n",
       "      <td>0.871622</td>\n",
       "      <td>0.627019</td>\n",
       "      <td>0.657453</td>\n",
       "      <td>0.454837</td>\n",
       "      <td>0.317371</td>\n",
       "      <td>0.211260</td>\n",
       "      <td>0.519520</td>\n",
       "      <td>0.457678</td>\n",
       "      <td>0.407358</td>\n",
       "    </tr>\n",
       "    <tr>\n",
       "      <th>shootingTeamMaxTimeOnIceOfDefencemen</th>\n",
       "      <td>0.774810</td>\n",
       "      <td>0.371625</td>\n",
       "      <td>0.201356</td>\n",
       "      <td>0.538370</td>\n",
       "      <td>0.435734</td>\n",
       "      <td>0.600327</td>\n",
       "      <td>0.734050</td>\n",
       "      <td>1.000000</td>\n",
       "      <td>0.754095</td>\n",
       "      <td>0.491275</td>\n",
       "      <td>0.366295</td>\n",
       "      <td>0.454707</td>\n",
       "      <td>0.569100</td>\n",
       "      <td>0.303962</td>\n",
       "      <td>0.165543</td>\n",
       "      <td>0.456492</td>\n",
       "      <td>0.412198</td>\n",
       "      <td>0.518936</td>\n",
       "    </tr>\n",
       "    <tr>\n",
       "      <th>shootingTeamMaxTimeOnIceOfDefencemenSinceFaceoff</th>\n",
       "      <td>0.655053</td>\n",
       "      <td>0.258687</td>\n",
       "      <td>0.273902</td>\n",
       "      <td>0.501859</td>\n",
       "      <td>0.636099</td>\n",
       "      <td>0.823585</td>\n",
       "      <td>0.538843</td>\n",
       "      <td>0.754095</td>\n",
       "      <td>1.000000</td>\n",
       "      <td>0.443824</td>\n",
       "      <td>0.596459</td>\n",
       "      <td>0.729865</td>\n",
       "      <td>0.520350</td>\n",
       "      <td>0.203435</td>\n",
       "      <td>0.216547</td>\n",
       "      <td>0.445805</td>\n",
       "      <td>0.538312</td>\n",
       "      <td>0.600230</td>\n",
       "    </tr>\n",
       "    <tr>\n",
       "      <th>shootingTeamMaxTimeOnIceOfForwards</th>\n",
       "      <td>0.843374</td>\n",
       "      <td>0.287384</td>\n",
       "      <td>0.221422</td>\n",
       "      <td>0.905723</td>\n",
       "      <td>0.703138</td>\n",
       "      <td>0.669122</td>\n",
       "      <td>0.871622</td>\n",
       "      <td>0.491275</td>\n",
       "      <td>0.443824</td>\n",
       "      <td>1.000000</td>\n",
       "      <td>0.732653</td>\n",
       "      <td>0.644195</td>\n",
       "      <td>0.486922</td>\n",
       "      <td>0.276057</td>\n",
       "      <td>0.211449</td>\n",
       "      <td>0.592475</td>\n",
       "      <td>0.520995</td>\n",
       "      <td>0.435312</td>\n",
       "    </tr>\n",
       "    <tr>\n",
       "      <th>shootingTeamMaxTimeOnIceOfForwardsSinceFaceoff</th>\n",
       "      <td>0.634135</td>\n",
       "      <td>0.188440</td>\n",
       "      <td>0.233999</td>\n",
       "      <td>0.705571</td>\n",
       "      <td>0.906429</td>\n",
       "      <td>0.852002</td>\n",
       "      <td>0.627019</td>\n",
       "      <td>0.366295</td>\n",
       "      <td>0.596459</td>\n",
       "      <td>0.732653</td>\n",
       "      <td>1.000000</td>\n",
       "      <td>0.922429</td>\n",
       "      <td>0.360505</td>\n",
       "      <td>0.170025</td>\n",
       "      <td>0.206914</td>\n",
       "      <td>0.497155</td>\n",
       "      <td>0.616439</td>\n",
       "      <td>0.446481</td>\n",
       "    </tr>\n",
       "    <tr>\n",
       "      <th>shootingTeamMaxTimeOnIceSinceFaceoff</th>\n",
       "      <td>0.601800</td>\n",
       "      <td>0.207377</td>\n",
       "      <td>0.260816</td>\n",
       "      <td>0.615333</td>\n",
       "      <td>0.825436</td>\n",
       "      <td>0.839213</td>\n",
       "      <td>0.657453</td>\n",
       "      <td>0.454707</td>\n",
       "      <td>0.729865</td>\n",
       "      <td>0.644195</td>\n",
       "      <td>0.922429</td>\n",
       "      <td>1.000000</td>\n",
       "      <td>0.307883</td>\n",
       "      <td>0.169468</td>\n",
       "      <td>0.213550</td>\n",
       "      <td>0.425158</td>\n",
       "      <td>0.548923</td>\n",
       "      <td>0.396462</td>\n",
       "    </tr>\n",
       "    <tr>\n",
       "      <th>shootingTeamMinTimeOnIce</th>\n",
       "      <td>0.766299</td>\n",
       "      <td>0.361534</td>\n",
       "      <td>0.286347</td>\n",
       "      <td>0.665220</td>\n",
       "      <td>0.563088</td>\n",
       "      <td>0.665061</td>\n",
       "      <td>0.454837</td>\n",
       "      <td>0.569100</td>\n",
       "      <td>0.520350</td>\n",
       "      <td>0.486922</td>\n",
       "      <td>0.360505</td>\n",
       "      <td>0.307883</td>\n",
       "      <td>1.000000</td>\n",
       "      <td>0.391763</td>\n",
       "      <td>0.317650</td>\n",
       "      <td>0.771742</td>\n",
       "      <td>0.696562</td>\n",
       "      <td>0.928563</td>\n",
       "    </tr>\n",
       "    <tr>\n",
       "      <th>shootingTeamMinTimeOnIceOfDefencemen</th>\n",
       "      <td>0.405442</td>\n",
       "      <td>0.987933</td>\n",
       "      <td>0.950290</td>\n",
       "      <td>0.297741</td>\n",
       "      <td>0.224144</td>\n",
       "      <td>0.307686</td>\n",
       "      <td>0.317371</td>\n",
       "      <td>0.303962</td>\n",
       "      <td>0.203435</td>\n",
       "      <td>0.276057</td>\n",
       "      <td>0.170025</td>\n",
       "      <td>0.169468</td>\n",
       "      <td>0.391763</td>\n",
       "      <td>1.000000</td>\n",
       "      <td>0.963356</td>\n",
       "      <td>0.258145</td>\n",
       "      <td>0.232578</td>\n",
       "      <td>0.363328</td>\n",
       "    </tr>\n",
       "    <tr>\n",
       "      <th>shootingTeamMinTimeOnIceOfDefencemenSinceFaceoff</th>\n",
       "      <td>0.300473</td>\n",
       "      <td>0.954707</td>\n",
       "      <td>0.991613</td>\n",
       "      <td>0.232649</td>\n",
       "      <td>0.247090</td>\n",
       "      <td>0.325834</td>\n",
       "      <td>0.211260</td>\n",
       "      <td>0.165543</td>\n",
       "      <td>0.216547</td>\n",
       "      <td>0.211449</td>\n",
       "      <td>0.206914</td>\n",
       "      <td>0.213550</td>\n",
       "      <td>0.317650</td>\n",
       "      <td>0.963356</td>\n",
       "      <td>1.000000</td>\n",
       "      <td>0.210910</td>\n",
       "      <td>0.235867</td>\n",
       "      <td>0.343624</td>\n",
       "    </tr>\n",
       "    <tr>\n",
       "      <th>shootingTeamMinTimeOnIceOfForwards</th>\n",
       "      <td>0.790368</td>\n",
       "      <td>0.258721</td>\n",
       "      <td>0.210082</td>\n",
       "      <td>0.842140</td>\n",
       "      <td>0.748177</td>\n",
       "      <td>0.710883</td>\n",
       "      <td>0.519520</td>\n",
       "      <td>0.456492</td>\n",
       "      <td>0.445805</td>\n",
       "      <td>0.592475</td>\n",
       "      <td>0.497155</td>\n",
       "      <td>0.425158</td>\n",
       "      <td>0.771742</td>\n",
       "      <td>0.258145</td>\n",
       "      <td>0.210910</td>\n",
       "      <td>1.000000</td>\n",
       "      <td>0.905040</td>\n",
       "      <td>0.711346</td>\n",
       "    </tr>\n",
       "    <tr>\n",
       "      <th>shootingTeamMinTimeOnIceOfForwardsSinceFaceoff</th>\n",
       "      <td>0.705438</td>\n",
       "      <td>0.234683</td>\n",
       "      <td>0.240642</td>\n",
       "      <td>0.751336</td>\n",
       "      <td>0.867464</td>\n",
       "      <td>0.826736</td>\n",
       "      <td>0.457678</td>\n",
       "      <td>0.412198</td>\n",
       "      <td>0.538312</td>\n",
       "      <td>0.520995</td>\n",
       "      <td>0.616439</td>\n",
       "      <td>0.548923</td>\n",
       "      <td>0.696562</td>\n",
       "      <td>0.232578</td>\n",
       "      <td>0.235867</td>\n",
       "      <td>0.905040</td>\n",
       "      <td>1.000000</td>\n",
       "      <td>0.772179</td>\n",
       "    </tr>\n",
       "    <tr>\n",
       "      <th>shootingTeamMinTimeOnIceSinceFaceoff</th>\n",
       "      <td>0.698954</td>\n",
       "      <td>0.334050</td>\n",
       "      <td>0.314360</td>\n",
       "      <td>0.603443</td>\n",
       "      <td>0.652691</td>\n",
       "      <td>0.760101</td>\n",
       "      <td>0.407358</td>\n",
       "      <td>0.518936</td>\n",
       "      <td>0.600230</td>\n",
       "      <td>0.435312</td>\n",
       "      <td>0.446481</td>\n",
       "      <td>0.396462</td>\n",
       "      <td>0.928563</td>\n",
       "      <td>0.363328</td>\n",
       "      <td>0.343624</td>\n",
       "      <td>0.711346</td>\n",
       "      <td>0.772179</td>\n",
       "      <td>1.000000</td>\n",
       "    </tr>\n",
       "  </tbody>\n",
       "</table>\n",
       "</div>"
      ],
      "text/plain": [
       "                                                      shootingTeamAverageTimeOnIce  shootingTeamAverageTimeOnIceOfDefencemen  shootingTeamAverageTimeOnIceOfDefencemenSinceFaceoff  shootingTeamAverageTimeOnIceOfForwards  shootingTeamAverageTimeOnIceOfForwardsSinceFaceoff  shootingTeamAverageTimeOnIceSinceFaceoff  shootingTeamMaxTimeOnIce  shootingTeamMaxTimeOnIceOfDefencemen  shootingTeamMaxTimeOnIceOfDefencemenSinceFaceoff  shootingTeamMaxTimeOnIceOfForwards  shootingTeamMaxTimeOnIceOfForwardsSinceFaceoff  shootingTeamMaxTimeOnIceSinceFaceoff  shootingTeamMinTimeOnIce  shootingTeamMinTimeOnIceOfDefencemen  shootingTeamMinTimeOnIceOfDefencemenSinceFaceoff  shootingTeamMinTimeOnIceOfForwards  shootingTeamMinTimeOnIceOfForwardsSinceFaceoff  shootingTeamMinTimeOnIceSinceFaceoff\n",
       "shootingTeamAverageTimeOnIce                                              1.000000                                  0.421266                                              0.306190                                0.931468                                            0.752613                                  0.810971                  0.851090                              0.774810                                          0.655053                            0.843374                                        0.634135                              0.601800                  0.766299                              0.405442                                          0.300473                            0.790368                                        0.705438                              0.698954\n",
       "shootingTeamAverageTimeOnIceOfDefencemen                                  0.421266                                  1.000000                                              0.958258                                0.306036                                            0.236506                                  0.322137                  0.362912                              0.371625                                          0.258687                            0.287384                                        0.188440                              0.207377                  0.361534                              0.987933                                          0.954707                            0.258721                                        0.234683                              0.334050\n",
       "shootingTeamAverageTimeOnIceOfDefencemenSinceFaceoff                      0.306190                                  0.958258                                              1.000000                                0.239416                                            0.265771                                  0.345162                  0.234447                              0.201356                                          0.273902                            0.221422                                        0.233999                              0.260816                  0.286347                              0.950290                                          0.991613                            0.210082                                        0.240642                              0.314360\n",
       "shootingTeamAverageTimeOnIceOfForwards                                    0.931468                                  0.306036                                              0.239416                                1.000000                                            0.821353                                  0.777987                  0.790810                              0.538370                                          0.501859                            0.905723                                        0.705571                              0.615333                  0.665220                              0.297741                                          0.232649                            0.842140                                        0.751336                              0.603443\n",
       "shootingTeamAverageTimeOnIceOfForwardsSinceFaceoff                        0.752613                                  0.236506                                              0.265771                                0.821353                                            1.000000                                  0.943712                  0.608104                              0.435734                                          0.636099                            0.703138                                        0.906429                              0.825436                  0.563088                              0.224144                                          0.247090                            0.748177                                        0.867464                              0.652691\n",
       "shootingTeamAverageTimeOnIceSinceFaceoff                                  0.810971                                  0.322137                                              0.345162                                0.777987                                            0.943712                                  1.000000                  0.636523                              0.600327                                          0.823585                            0.669122                                        0.852002                              0.839213                  0.665061                              0.307686                                          0.325834                            0.710883                                        0.826736                              0.760101\n",
       "shootingTeamMaxTimeOnIce                                                  0.851090                                  0.362912                                              0.234447                                0.790810                                            0.608104                                  0.636523                  1.000000                              0.734050                                          0.538843                            0.871622                                        0.627019                              0.657453                  0.454837                              0.317371                                          0.211260                            0.519520                                        0.457678                              0.407358\n",
       "shootingTeamMaxTimeOnIceOfDefencemen                                      0.774810                                  0.371625                                              0.201356                                0.538370                                            0.435734                                  0.600327                  0.734050                              1.000000                                          0.754095                            0.491275                                        0.366295                              0.454707                  0.569100                              0.303962                                          0.165543                            0.456492                                        0.412198                              0.518936\n",
       "shootingTeamMaxTimeOnIceOfDefencemenSinceFaceoff                          0.655053                                  0.258687                                              0.273902                                0.501859                                            0.636099                                  0.823585                  0.538843                              0.754095                                          1.000000                            0.443824                                        0.596459                              0.729865                  0.520350                              0.203435                                          0.216547                            0.445805                                        0.538312                              0.600230\n",
       "shootingTeamMaxTimeOnIceOfForwards                                        0.843374                                  0.287384                                              0.221422                                0.905723                                            0.703138                                  0.669122                  0.871622                              0.491275                                          0.443824                            1.000000                                        0.732653                              0.644195                  0.486922                              0.276057                                          0.211449                            0.592475                                        0.520995                              0.435312\n",
       "shootingTeamMaxTimeOnIceOfForwardsSinceFaceoff                            0.634135                                  0.188440                                              0.233999                                0.705571                                            0.906429                                  0.852002                  0.627019                              0.366295                                          0.596459                            0.732653                                        1.000000                              0.922429                  0.360505                              0.170025                                          0.206914                            0.497155                                        0.616439                              0.446481\n",
       "shootingTeamMaxTimeOnIceSinceFaceoff                                      0.601800                                  0.207377                                              0.260816                                0.615333                                            0.825436                                  0.839213                  0.657453                              0.454707                                          0.729865                            0.644195                                        0.922429                              1.000000                  0.307883                              0.169468                                          0.213550                            0.425158                                        0.548923                              0.396462\n",
       "shootingTeamMinTimeOnIce                                                  0.766299                                  0.361534                                              0.286347                                0.665220                                            0.563088                                  0.665061                  0.454837                              0.569100                                          0.520350                            0.486922                                        0.360505                              0.307883                  1.000000                              0.391763                                          0.317650                            0.771742                                        0.696562                              0.928563\n",
       "shootingTeamMinTimeOnIceOfDefencemen                                      0.405442                                  0.987933                                              0.950290                                0.297741                                            0.224144                                  0.307686                  0.317371                              0.303962                                          0.203435                            0.276057                                        0.170025                              0.169468                  0.391763                              1.000000                                          0.963356                            0.258145                                        0.232578                              0.363328\n",
       "shootingTeamMinTimeOnIceOfDefencemenSinceFaceoff                          0.300473                                  0.954707                                              0.991613                                0.232649                                            0.247090                                  0.325834                  0.211260                              0.165543                                          0.216547                            0.211449                                        0.206914                              0.213550                  0.317650                              0.963356                                          1.000000                            0.210910                                        0.235867                              0.343624\n",
       "shootingTeamMinTimeOnIceOfForwards                                        0.790368                                  0.258721                                              0.210082                                0.842140                                            0.748177                                  0.710883                  0.519520                              0.456492                                          0.445805                            0.592475                                        0.497155                              0.425158                  0.771742                              0.258145                                          0.210910                            1.000000                                        0.905040                              0.711346\n",
       "shootingTeamMinTimeOnIceOfForwardsSinceFaceoff                            0.705438                                  0.234683                                              0.240642                                0.751336                                            0.867464                                  0.826736                  0.457678                              0.412198                                          0.538312                            0.520995                                        0.616439                              0.548923                  0.696562                              0.232578                                          0.235867                            0.905040                                        1.000000                              0.772179\n",
       "shootingTeamMinTimeOnIceSinceFaceoff                                      0.698954                                  0.334050                                              0.314360                                0.603443                                            0.652691                                  0.760101                  0.407358                              0.518936                                          0.600230                            0.435312                                        0.446481                              0.396462                  0.928563                              0.363328                                          0.343624                            0.711346                                        0.772179                              1.000000"
      ]
     },
     "execution_count": 20,
     "metadata": {},
     "output_type": "execute_result"
    }
   ],
   "source": [
    "columns_shooting_team_toi = ['shootingTeamAverageTimeOnIce', 'shootingTeamAverageTimeOnIceOfDefencemen',\n",
    "                             'shootingTeamAverageTimeOnIceOfDefencemenSinceFaceoff', 'shootingTeamAverageTimeOnIceOfForwards',\n",
    "                             'shootingTeamAverageTimeOnIceOfForwardsSinceFaceoff', 'shootingTeamAverageTimeOnIceSinceFaceoff',\n",
    "                             'shootingTeamMaxTimeOnIce', 'shootingTeamMaxTimeOnIceOfDefencemen', \n",
    "                             'shootingTeamMaxTimeOnIceOfDefencemenSinceFaceoff', 'shootingTeamMaxTimeOnIceOfForwards',\n",
    "                             'shootingTeamMaxTimeOnIceOfForwardsSinceFaceoff', 'shootingTeamMaxTimeOnIceSinceFaceoff',\n",
    "                             'shootingTeamMinTimeOnIce', 'shootingTeamMinTimeOnIceOfDefencemen', \n",
    "                             'shootingTeamMinTimeOnIceOfDefencemenSinceFaceoff', 'shootingTeamMinTimeOnIceOfForwards',\n",
    "                             'shootingTeamMinTimeOnIceOfForwardsSinceFaceoff', 'shootingTeamMinTimeOnIceSinceFaceoff']\n",
    "\n",
    "# get the correlation matrix for those columns\n",
    "get_corr_matrix_ps(corr_columns_list = columns_shooting_team_toi, ps_df = train)"
   ]
  },
  {
   "cell_type": "markdown",
   "id": "6024de9b-5964-45b6-842d-ea9e5f061a85",
   "metadata": {},
   "source": [
    "As expected, many of these correlations are high.  It is definitely not a good idea to include too many of these in our models, as they will cause collinearity issues in our models and lead to us getting less information than we should.  After looking at the correlations between different variables related to defending or shooting team time on ice, we turned our focus to variables related to the location of the shot. Shot distance and shot angle are implicitly related to the x-coordinate and y-coordinate on the rink of the shot. Looking at the adjusted x and y coordinates treats those as if they were all on the same side of the ice, so that low and high values for those mean the same thing for all shots. Per the Money Puck data dictionary, the net is at an absolute value x-coordinate of 89. Therefore, a low absolute value x-coordinate (xCordAdjusted) means the shot was taken from a long distance away from the goal in a straight line towards the middle of the ice.  A high y coordinate means the shot was taken from one of the edges of the rink, towards the bench or the penalty box."
   ]
  },
  {
   "cell_type": "code",
   "execution_count": 21,
   "id": "1866b63e-00da-494c-95eb-d4ee9c0d0f74",
   "metadata": {},
   "outputs": [
    {
     "data": {
      "text/html": [
       "<div>\n",
       "<style scoped>\n",
       "    .dataframe tbody tr th:only-of-type {\n",
       "        vertical-align: middle;\n",
       "    }\n",
       "\n",
       "    .dataframe tbody tr th {\n",
       "        vertical-align: top;\n",
       "    }\n",
       "\n",
       "    .dataframe thead th {\n",
       "        text-align: right;\n",
       "    }\n",
       "</style>\n",
       "<table border=\"1\" class=\"dataframe\">\n",
       "  <thead>\n",
       "    <tr style=\"text-align: right;\">\n",
       "      <th></th>\n",
       "      <th>shotDistance</th>\n",
       "      <th>shotAngle</th>\n",
       "      <th>xCordAdjusted</th>\n",
       "      <th>yCordAdjusted</th>\n",
       "      <th>goal</th>\n",
       "    </tr>\n",
       "  </thead>\n",
       "  <tbody>\n",
       "    <tr>\n",
       "      <th>shotDistance</th>\n",
       "      <td>1.000000</td>\n",
       "      <td>0.026239</td>\n",
       "      <td>-0.950227</td>\n",
       "      <td>0.016757</td>\n",
       "      <td>-0.172575</td>\n",
       "    </tr>\n",
       "    <tr>\n",
       "      <th>shotAngle</th>\n",
       "      <td>0.026239</td>\n",
       "      <td>1.000000</td>\n",
       "      <td>-0.027738</td>\n",
       "      <td>0.847793</td>\n",
       "      <td>-0.007024</td>\n",
       "    </tr>\n",
       "    <tr>\n",
       "      <th>xCordAdjusted</th>\n",
       "      <td>-0.950227</td>\n",
       "      <td>-0.027738</td>\n",
       "      <td>1.000000</td>\n",
       "      <td>-0.016220</td>\n",
       "      <td>0.142169</td>\n",
       "    </tr>\n",
       "    <tr>\n",
       "      <th>yCordAdjusted</th>\n",
       "      <td>0.016757</td>\n",
       "      <td>0.847793</td>\n",
       "      <td>-0.016220</td>\n",
       "      <td>1.000000</td>\n",
       "      <td>-0.005679</td>\n",
       "    </tr>\n",
       "    <tr>\n",
       "      <th>goal</th>\n",
       "      <td>-0.172575</td>\n",
       "      <td>-0.007024</td>\n",
       "      <td>0.142169</td>\n",
       "      <td>-0.005679</td>\n",
       "      <td>1.000000</td>\n",
       "    </tr>\n",
       "  </tbody>\n",
       "</table>\n",
       "</div>"
      ],
      "text/plain": [
       "               shotDistance  shotAngle  xCordAdjusted  yCordAdjusted      goal\n",
       "shotDistance       1.000000   0.026239      -0.950227       0.016757 -0.172575\n",
       "shotAngle          0.026239   1.000000      -0.027738       0.847793 -0.007024\n",
       "xCordAdjusted     -0.950227  -0.027738       1.000000      -0.016220  0.142169\n",
       "yCordAdjusted      0.016757   0.847793      -0.016220       1.000000 -0.005679\n",
       "goal              -0.172575  -0.007024       0.142169      -0.005679  1.000000"
      ]
     },
     "execution_count": 21,
     "metadata": {},
     "output_type": "execute_result"
    }
   ],
   "source": [
    "# columns to calculate correlation\n",
    "corr_columns_list1 = ['shotDistance', 'shotAngle', 'xCordAdjusted', 'yCordAdjusted',\n",
    "                      'goal']\n",
    "\n",
    "# Get table of correlations\n",
    "get_corr_matrix_ps(corr_columns_list = corr_columns_list1, ps_df = train)"
   ]
  },
  {
   "cell_type": "markdown",
   "id": "5dbc7ff9-1ac2-4b3f-8d81-d4628d7e8667",
   "metadata": {},
   "source": [
    "We can see that shot angle is highly correlated with the y-coordinate adjusted variable, which makes sense because the y-coordinate is how far \"up\" or \"down\" relative to the goal the shot comes from.  The shot distance is highly coordinated with the x-coordinate, which makes sense but for the reason that the x-coordinate is how \"left\" or \"right\" the shot was taken from relative to the goal.\n",
    "\n",
    "Lastly, let's look at a correlation table for shot angle columns and goal.  In hockey, rebounds are much more likely to be scored, since the goalie may be out of position or caught off guard for a brief period of time.  "
   ]
  },
  {
   "cell_type": "code",
   "execution_count": 22,
   "id": "39d2b4dc-c486-4f1e-82c4-860f486855a8",
   "metadata": {},
   "outputs": [
    {
     "data": {
      "text/html": [
       "<div>\n",
       "<style scoped>\n",
       "    .dataframe tbody tr th:only-of-type {\n",
       "        vertical-align: middle;\n",
       "    }\n",
       "\n",
       "    .dataframe tbody tr th {\n",
       "        vertical-align: top;\n",
       "    }\n",
       "\n",
       "    .dataframe thead th {\n",
       "        text-align: right;\n",
       "    }\n",
       "</style>\n",
       "<table border=\"1\" class=\"dataframe\">\n",
       "  <thead>\n",
       "    <tr style=\"text-align: right;\">\n",
       "      <th></th>\n",
       "      <th>shotAnglePlusRebound</th>\n",
       "      <th>shotAngleReboundRoyalRoad</th>\n",
       "      <th>shotAnglePlusReboundSpeed</th>\n",
       "      <th>goal</th>\n",
       "    </tr>\n",
       "  </thead>\n",
       "  <tbody>\n",
       "    <tr>\n",
       "      <th>shotAnglePlusRebound</th>\n",
       "      <td>1.000000</td>\n",
       "      <td>0.768243</td>\n",
       "      <td>0.608797</td>\n",
       "      <td>0.036375</td>\n",
       "    </tr>\n",
       "    <tr>\n",
       "      <th>shotAngleReboundRoyalRoad</th>\n",
       "      <td>0.768243</td>\n",
       "      <td>1.000000</td>\n",
       "      <td>0.464887</td>\n",
       "      <td>0.031068</td>\n",
       "    </tr>\n",
       "    <tr>\n",
       "      <th>shotAnglePlusReboundSpeed</th>\n",
       "      <td>0.608797</td>\n",
       "      <td>0.464887</td>\n",
       "      <td>1.000000</td>\n",
       "      <td>0.102912</td>\n",
       "    </tr>\n",
       "    <tr>\n",
       "      <th>goal</th>\n",
       "      <td>0.036375</td>\n",
       "      <td>0.031068</td>\n",
       "      <td>0.102912</td>\n",
       "      <td>1.000000</td>\n",
       "    </tr>\n",
       "  </tbody>\n",
       "</table>\n",
       "</div>"
      ],
      "text/plain": [
       "                           shotAnglePlusRebound  shotAngleReboundRoyalRoad  shotAnglePlusReboundSpeed      goal\n",
       "shotAnglePlusRebound                   1.000000                   0.768243                   0.608797  0.036375\n",
       "shotAngleReboundRoyalRoad              0.768243                   1.000000                   0.464887  0.031068\n",
       "shotAnglePlusReboundSpeed              0.608797                   0.464887                   1.000000  0.102912\n",
       "goal                                   0.036375                   0.031068                   0.102912  1.000000"
      ]
     },
     "execution_count": 22,
     "metadata": {},
     "output_type": "execute_result"
    }
   ],
   "source": [
    "# Columns to calculate correlation\n",
    "corr_columns_list1 = ['shotAnglePlusRebound', 'shotAngleReboundRoyalRoad', 'shotAnglePlusReboundSpeed',\n",
    "                      'goal']\n",
    "\n",
    "# Get table of correlations\n",
    "get_corr_matrix_ps(corr_columns_list = corr_columns_list1, ps_df = train)"
   ]
  },
  {
   "cell_type": "markdown",
   "id": "46c1362c-73af-438b-a31c-90fcb66b3b83",
   "metadata": {},
   "source": [
    "It looks like these shot angle columns are highly correlated, which makes sense because they are all the same thing but with slightly different definitions.  The shotAnglePlusReboundSpeed column has the highest correlation with goal.\n",
    "\n",
    "If we need to use pandas on pyspark, we can convert the data frame to a pandas-on-spark data frame. This has some built-in functionality to generate different plots, which is helpful in our exploratory analysis.  We do this conversion using `ps.DataFrame()`."
   ]
  },
  {
   "cell_type": "code",
   "execution_count": 23,
   "id": "ad62d268-767e-4a96-b589-72daac5b1856",
   "metadata": {},
   "outputs": [
    {
     "data": {
      "text/plain": [
       "pyspark.pandas.frame.DataFrame"
      ]
     },
     "execution_count": 23,
     "metadata": {},
     "output_type": "execute_result"
    }
   ],
   "source": [
    "# Convert training set to pandas-on-spark data frame\n",
    "train_pd = ps.DataFrame(train)\n",
    "# Check its type\n",
    "type(train_pd)"
   ]
  },
  {
   "cell_type": "markdown",
   "id": "bbaf4316-ff19-4a21-9c2f-b5962c613abf",
   "metadata": {},
   "source": [
    "We'd also like to look at the density of the distribution of shot distances. A kernel density estimate provides a smoothed version of that distribution and is a helpful overview to see how far shots are coming from.  We can do this with the `.plot.kde()` method for a shot distance."
   ]
  },
  {
   "cell_type": "code",
   "execution_count": 24,
   "id": "d1319238-9f1b-488f-8393-9667847f7290",
   "metadata": {},
   "outputs": [
    {
     "data": {
      "text/plain": [
       "<AxesSubplot:title={'center':'Kernel Density of Shot Distance'}, ylabel='Density'>"
      ]
     },
     "execution_count": 24,
     "metadata": {},
     "output_type": "execute_result"
    },
    {
     "data": {
      "image/png": "[encoded data removed]",
      "text/plain": [
       "<Figure size 432x288 with 1 Axes>"
      ]
     },
     "metadata": {
      "needs_background": "light"
     },
     "output_type": "display_data"
    }
   ],
   "source": [
    "train_pd.shotDistance.plot.kde(bw_method = 1, xlim = [0, 75], title = \"Kernel Density of Shot Distance\", color = \"red\")"
   ]
  },
  {
   "cell_type": "markdown",
   "id": "dbfb5c35-508d-4672-ba89-ea09a24429bc",
   "metadata": {},
   "source": [
    "We can see there's a sharp drop-off at around 64 feet away from the goal, which is how far the blue line is from the goal. Anything within the blue line is in the offensive zone for the shooting team, and shots are not typically taken from past the blue line."
   ]
  },
  {
   "cell_type": "markdown",
   "id": "1dffae25-8d2d-4786-be4b-6a5f66c41872",
   "metadata": {},
   "source": [
    "## Model Fitting"
   ]
  },
  {
   "cell_type": "markdown",
   "id": "6bf2bf1a-4223-41f2-b626-eb24165e2db2",
   "metadata": {},
   "source": [
    "We will be fitting three different types of models to attempt to predict the probability of a goal being scored on a given shot.  We need to import several functions from the PySpark ML and MLLib libraries to set up the pipelines for each of these three models."
   ]
  },
  {
   "cell_type": "code",
   "execution_count": 25,
   "id": "81bd75b3-be05-4e97-9214-e8b7ca40729a",
   "metadata": {},
   "outputs": [],
   "source": [
    "from pyspark.ml.classification import LogisticRegression, RandomForestClassifier, BinaryLogisticRegressionSummary, LogisticRegressionSummary, DecisionTreeClassifier\n",
    "from pyspark.ml.evaluation import BinaryClassificationEvaluator\n",
    "from pyspark.mllib.util import MLUtils\n",
    "from pyspark.ml.tuning import CrossValidator, ParamGridBuilder"
   ]
  },
  {
   "cell_type": "markdown",
   "id": "f64206d3-345b-43e1-83fc-bd067657b1c1",
   "metadata": {},
   "source": [
    "### Logistic Regression"
   ]
  },
  {
   "cell_type": "markdown",
   "id": "1683e69f-f9a1-4472-860f-18bacf9ed3a5",
   "metadata": {},
   "source": [
    "The first model type we'll be testing to predict whether a goal is scored on a shot is a logistic regression model. This models the probability of an event (in this case, a goal being scored on a shot) occurring. The model is structured to predict the log odds (natural logarithm of the probability of the event occuring divided by the probability of the event not occurring) using a linear combination of the predictor variables. The predicted values can them be converted into the predicted probability of the event occurring. For this model, that probability is for a goal being scored on a given shot, more commonly known as \"expected goals\" in the hockey analytics world."
   ]
  },
  {
   "cell_type": "markdown",
   "id": "5b6b4f5f-537a-45a1-b7f1-59d2a3e79c2e",
   "metadata": {},
   "source": [
    "Some of the variables may have interactions with each other, so creating some transformations to add in those interaction terms for the shot type indicator variables is a good start. Wrap-around shots, specifically, may have an interesting interaction with shot distance because they are taken from much closer to the goal, on average, and are more difficult to convert. We also wanted to try including interactions between shot distance and slap shots or snap shots, because those were more common shot types and might have a different relationship with shot distance."
   ]
  },
  {
   "cell_type": "code",
   "execution_count": 26,
   "id": "9be5830b-d2f1-4347-869f-aece9942d426",
   "metadata": {},
   "outputs": [],
   "source": [
    "# interaction between shot type (slap shot) and shot distance\n",
    "interaction_shotType_Slap_shotDistance = Interaction(inputCols = [\"shotType_Slap\", \"shotDistance\"], outputCol = \"shotType_Slap_shotDistance\")"
   ]
  },
  {
   "cell_type": "code",
   "execution_count": 27,
   "id": "ccb6a25d-e0ba-4846-b01a-96333814cd29",
   "metadata": {},
   "outputs": [],
   "source": [
    "# interaction between shot type (snap shot) and shot distance\n",
    "interaction_shotType_Snap_shotDistance = Interaction(inputCols = [\"shotType_Snap\", \"shotDistance\"], outputCol = \"shotType_Snap_shotDistance\")"
   ]
  },
  {
   "cell_type": "code",
   "execution_count": 28,
   "id": "1ca524e4-06e3-460d-8fd0-9640d8890f2e",
   "metadata": {},
   "outputs": [],
   "source": [
    "# interaction between shot type (wrist shot) and shot distance\n",
    "interaction_shotType_Wrist_shotDistance = Interaction(inputCols = [\"shotType_Wrist\", \"shotDistance\"], outputCol = \"shotType_Wrist_shotDistance\")"
   ]
  },
  {
   "cell_type": "code",
   "execution_count": 29,
   "id": "f2c2da11-33ba-47a4-ad51-de91c9c6168a",
   "metadata": {},
   "outputs": [],
   "source": [
    "# interaction between shot type (wraparound shot) and shot distance\n",
    "interaction_shotType_Wrap_shotDistance = Interaction(inputCols = [\"shotType_Wrap\", \"shotDistance\"], outputCol = \"shotType_Wrap_shotDistance\")"
   ]
  },
  {
   "cell_type": "markdown",
   "id": "8763668d-9383-4a19-9cf3-59fd8614011a",
   "metadata": {},
   "source": [
    "Another transformation we tried was a log transformation on the shot distance. It stands to reason that the relationship between probability of a goal being scored and the shot distance is not completely linear. All else equal, the difference in goal probability on a shot 20 feet from the goal and one 30 feet from the goal may be different than the difference in goal probability on a shot 30 feet from goal and a shot 40 feet from the goal. The (natural) log transformation is a common transformation to help capture this relationship. "
   ]
  },
  {
   "cell_type": "code",
   "execution_count": 30,
   "id": "a89e64e3-0b36-4199-80d9-2212df467b5e",
   "metadata": {},
   "outputs": [
    {
     "name": "stdout",
     "output_type": "stream",
     "text": [
      "+------------+------------------+\n",
      "|shotDistance|  shotDistance_log|\n",
      "+------------+------------------+\n",
      "|   42.520584| 3.749988290595886|\n",
      "|   30.610456| 3.421341665184415|\n",
      "|     85.3815| 4.447129452552118|\n",
      "|   29.274563|3.3767189763472905|\n",
      "|   26.305893|3.2697929804091697|\n",
      "+------------+------------------+\n",
      "only showing top 5 rows\n",
      "\n"
     ]
    }
   ],
   "source": [
    "# transformer to get the log of the shot distance\n",
    "sqlTrans_log_shotDistance = SQLTransformer(\n",
    "    statement = \"SELECT *, log(shotDistance) as shotDistance_log FROM __THIS__\"\n",
    ")\n",
    "# to test out the log transformation and see that it works as expected\n",
    "sqlTrans_log_shotDistance.transform(nhl_spark).select(['shotDistance', 'shotDistance_log']).show(5)"
   ]
  },
  {
   "cell_type": "markdown",
   "id": "19423514-782b-4d29-8c80-215a10216d00",
   "metadata": {},
   "source": [
    "Next, we'll specify a list of the predictors to include in fitting the logistic regression model. We want to use a lot of the indicator variables created previously from our exploratory analysis, such as the indicators for different shot types and power play / penalty kill. The wrist shot indicator variable is excluded because that will be the reference category for shot type - predictions for wrist shots will simply not have any of the coefficients for the other shot type indicator variables applied to them."
   ]
  },
  {
   "cell_type": "code",
   "execution_count": 31,
   "id": "2977e900-b8d7-4387-aaa0-db8e71981bf1",
   "metadata": {},
   "outputs": [],
   "source": [
    "# predictor variables to include in fitting logistic regression\n",
    "lr_predictors_list = ['shotDistance_log', 'shotAngleAdjusted', 'powerPlay', 'penaltyKill', 'offWing', 'shotRush',\n",
    "                      'shotType_Backhand', 'shotType_Deflection', 'shotType_Slap', 'shotType_Snap', 'shotType_Tip', 'shotType_Wrap',\n",
    "                      'shotType_Slap_shotDistance', 'shotType_Snap_shotDistance', 'shotType_Wrap_shotDistance']"
   ]
  },
  {
   "cell_type": "markdown",
   "id": "8328ae4b-d8d3-4115-a479-d5f0ad320f5f",
   "metadata": {},
   "source": [
    "We need to set up a transformer to select the goal variable as label and then select all of the predictors from the provided Spark data frame."
   ]
  },
  {
   "cell_type": "code",
   "execution_count": 32,
   "id": "3615989c-7aca-459f-9d9b-ded3fea5e123",
   "metadata": {},
   "outputs": [],
   "source": [
    "# transformer to get set the response variable (goal) as label and select the predictor variables\n",
    "sqlTrans_lr = SQLTransformer(\n",
    "    statement = \"SELECT goal as label, \" + \", \".join(lr_predictors_list) + \" FROM __THIS__\"\n",
    ")"
   ]
  },
  {
   "cell_type": "markdown",
   "id": "171cfbd0-5222-4292-8ac0-ff3104130b43",
   "metadata": {},
   "source": [
    "The assembler will convert all of the predictors into a single column called \"features\"."
   ]
  },
  {
   "cell_type": "code",
   "execution_count": 33,
   "id": "fe29b068-a3c1-4776-a550-f4964213660c",
   "metadata": {},
   "outputs": [],
   "source": [
    "# using wrist shots as the reference category for shot type\n",
    "assembler_lr = VectorAssembler(inputCols = lr_predictors_list, outputCol = \"features\", handleInvalid = 'keep')"
   ]
  },
  {
   "cell_type": "markdown",
   "id": "ff53aaf8-dcf9-4ed0-adbb-c224bcc20d31",
   "metadata": {},
   "source": [
    "Below, we will specify our logistic regression model. There won't be any regularization applied to the predictor variables, though perhaps that's something work exploring down the road."
   ]
  },
  {
   "cell_type": "code",
   "execution_count": 34,
   "id": "dc32e1c8-d6e2-4ee7-b7b9-4b742f1a2834",
   "metadata": {},
   "outputs": [],
   "source": [
    "# fitting logistic regression model\n",
    "lr1 = LogisticRegression(labelCol = \"label\", featuresCol = \"features\", regParam = 0, elasticNetParam = 0)"
   ]
  },
  {
   "cell_type": "markdown",
   "id": "9a6ba1ae-ed4c-48c5-ac0d-8b6b0a9c9160",
   "metadata": {},
   "source": [
    "For our logistic regression model, the only parameters we are testing are whether or not to include an intercept in the model."
   ]
  },
  {
   "cell_type": "code",
   "execution_count": 35,
   "id": "2eb115cc-92bf-4b84-99f2-4f357c4d4ae8",
   "metadata": {},
   "outputs": [],
   "source": [
    "# set up the parameter grid for the logistic regression model to test model fits with and without an intercept\n",
    "paramGrid_lr = (ParamGridBuilder() \\\n",
    "    .addGrid(lr1.regParam, [0]) \\\n",
    "    .addGrid(lr1.fitIntercept, [False, True]) \\\n",
    "    .addGrid(lr1.elasticNetParam, [0]) \\\n",
    "    .build())"
   ]
  },
  {
   "cell_type": "markdown",
   "id": "36548cc1-25bc-4a00-a7d4-b8fa5d544c3d",
   "metadata": {},
   "source": [
    "Our pipeline needs to include all of the transformations to get interaction terms, log of shot distance, and get the data into the proper format for the Spark model fitting process."
   ]
  },
  {
   "cell_type": "code",
   "execution_count": 36,
   "id": "c86f7710-7e0e-409c-a462-cfcaaab0a624",
   "metadata": {},
   "outputs": [],
   "source": [
    "# set up the pipeline for fitting the logistic regression model\n",
    "pipeline = Pipeline(stages = [interaction_shotType_Slap_shotDistance, interaction_shotType_Snap_shotDistance, interaction_shotType_Wrap_shotDistance,\n",
    "                              sqlTrans_log_shotDistance,\n",
    "                              sqlTrans_lr, assembler_lr, lr1])"
   ]
  },
  {
   "cell_type": "code",
   "execution_count": 37,
   "id": "03178bc0-9b7b-41d1-8b7d-ffac98312480",
   "metadata": {},
   "outputs": [],
   "source": [
    "# specify cross-validation process for logistic regression model\n",
    "crossval_lr = CrossValidator(estimator = pipeline,\n",
    "                             estimatorParamMaps = paramGrid_lr,\n",
    "                             evaluator = BinaryClassificationEvaluator(),\n",
    "                             numFolds = 5)"
   ]
  },
  {
   "cell_type": "markdown",
   "id": "311b7deb-436b-4fa3-85e6-7d6e29932cb4",
   "metadata": {},
   "source": [
    "Now it's time to fit the model on the training data set."
   ]
  },
  {
   "cell_type": "code",
   "execution_count": 38,
   "id": "b8edac71-a58e-4992-aa7b-00a9a1a41394",
   "metadata": {},
   "outputs": [],
   "source": [
    "# Run cross-validation, and choose the best set of parameters.\n",
    "cvModel_lr = crossval_lr.fit(train)"
   ]
  },
  {
   "cell_type": "code",
   "execution_count": 39,
   "id": "76d30b3e-7f1e-492d-9cdd-975a54245a29",
   "metadata": {},
   "outputs": [
    {
     "data": {
      "text/plain": [
       "[(0.7323797544139359,\n",
       "  {Param(parent='LogisticRegression_fff40c833d53', name='regParam', doc='regularization parameter (>= 0).'): 0.0,\n",
       "   Param(parent='LogisticRegression_fff40c833d53', name='fitIntercept', doc='whether to fit an intercept term.'): False,\n",
       "   Param(parent='LogisticRegression_fff40c833d53', name='elasticNetParam', doc='the ElasticNet mixing parameter, in range [0, 1]. For alpha = 0, the penalty is an L2 penalty. For alpha = 1, it is an L1 penalty.'): 0.0}),\n",
       " (0.7373495278127897,\n",
       "  {Param(parent='LogisticRegression_fff40c833d53', name='regParam', doc='regularization parameter (>= 0).'): 0.0,\n",
       "   Param(parent='LogisticRegression_fff40c833d53', name='fitIntercept', doc='whether to fit an intercept term.'): True,\n",
       "   Param(parent='LogisticRegression_fff40c833d53', name='elasticNetParam', doc='the ElasticNet mixing parameter, in range [0, 1]. For alpha = 0, the penalty is an L2 penalty. For alpha = 1, it is an L1 penalty.'): 0.0})]"
      ]
     },
     "execution_count": 39,
     "metadata": {},
     "output_type": "execute_result"
    }
   ],
   "source": [
    "# get a list of the metric (AUC) for each of the part of the parameter grid\n",
    "list(zip(cvModel_lr.avgMetrics, paramGrid_lr))"
   ]
  },
  {
   "cell_type": "markdown",
   "id": "99af84ad-ebd8-410a-b269-1757a9297add",
   "metadata": {},
   "source": [
    "After finding the best fitting logistic regression model, we'd like to see the coefficients on each of the predictor variables."
   ]
  },
  {
   "cell_type": "code",
   "execution_count": 40,
   "id": "2120ea93-beb2-45bb-810e-cf97e29bea5a",
   "metadata": {},
   "outputs": [
    {
     "name": "stdout",
     "output_type": "stream",
     "text": [
      "                   predictor_variable\n",
      "-1.221382            shotDistance_log\n",
      "-0.013527           shotAngleAdjusted\n",
      " 0.316553                   powerPlay\n",
      " 0.023722                 penaltyKill\n",
      " 0.084415                     offWing\n",
      " 0.594163                    shotRush\n",
      "-0.355639           shotType_Backhand\n",
      "-0.465275         shotType_Deflection\n",
      " 1.202895               shotType_Slap\n",
      " 0.841032               shotType_Snap\n",
      "-0.489753                shotType_Tip\n",
      "-0.596169               shotType_Wrap\n",
      "-0.020187  shotType_Slap_shotDistance\n",
      "-0.011682  shotType_Snap_shotDistance\n",
      "-0.151345  shotType_Wrap_shotDistance\n"
     ]
    }
   ],
   "source": [
    "# summary of coefficients in best fit logistic regression model\n",
    "print(pd.DataFrame(lr_predictors_list, cvModel_lr.bestModel.stages[-1].coefficients.toArray().tolist(), columns = ['predictor_variable']))"
   ]
  },
  {
   "cell_type": "code",
   "execution_count": 41,
   "id": "b84625ee-e043-461a-a770-3fc2881091c4",
   "metadata": {},
   "outputs": [
    {
     "name": "stdout",
     "output_type": "stream",
     "text": [
      "The accuracy of the best fit logistic regression model is: 0.9315527538155275\n",
      "The AUC (area under ROC curve) of the best fit logistic regression model is: 0.7381701375614744\n"
     ]
    }
   ],
   "source": [
    "print('The accuracy of the best fit logistic regression model is: ' + str(cvModel_lr.bestModel.stages[-1].summary.accuracy))\n",
    "print('The AUC (area under ROC curve) of the best fit logistic regression model is: ' + str(cvModel_lr.bestModel.stages[-1].summary.areaUnderROC))"
   ]
  },
  {
   "cell_type": "markdown",
   "id": "789b3f5a-9921-4b3e-aa01-729d35b1105e",
   "metadata": {},
   "source": [
    "The accuracy shows the percent of correct predictions over total predictions. Our AUC is pretty high for a complicated problem like this."
   ]
  },
  {
   "cell_type": "markdown",
   "id": "3a73adfa-b5f2-4b3e-99c7-e25a8ccf78a5",
   "metadata": {},
   "source": [
    "Finally, we need to evaluate the best fit model on the test set using AUC, which will be our point of comparison to different model types."
   ]
  },
  {
   "cell_type": "code",
   "execution_count": 42,
   "id": "73f7fccb-325b-4e45-b331-570c220fb69b",
   "metadata": {},
   "outputs": [
    {
     "name": "stdout",
     "output_type": "stream",
     "text": [
      "0.7338475447169561\n"
     ]
    }
   ],
   "source": [
    "# evaluate the model on the test set\n",
    "test_auc = BinaryClassificationEvaluator().evaluate(cvModel_lr.transform(test))\n",
    "print(test_auc)"
   ]
  },
  {
   "cell_type": "markdown",
   "id": "74cec58c-4e41-45b4-984a-0fafe69e7510",
   "metadata": {},
   "source": [
    "Looks like a promising start! Now let's try out some tree-based models."
   ]
  },
  {
   "cell_type": "markdown",
   "id": "be9a38dc-bdea-41b9-967c-541cbc0e31a6",
   "metadata": {},
   "source": [
    "### Classification Tree"
   ]
  },
  {
   "cell_type": "markdown",
   "id": "fe4f16f5-0955-4068-937c-3ba9fe381b85",
   "metadata": {},
   "source": [
    "We are going to fit a classification tree model on the training data next.  A classification tree model makes predictions based on splits.  A tree may have several splits, all based on specific values of different variables in the model.  The values for these splits are usually found by considering every possible value for every predictor, and choosing the one that minimizes a loss function or some kind of error, basically splitting at the \"optimal\" point for all possible splits.  This breaks the model up, and another split is found for each resulting side.  This continues until the model is really good at predicting the training set, but because the training set will not be exactly like other data sets, the model will not be good at predicting other data sets.  This is a result of the bias-variance trade off and is called \"overfitting\".  To counteract this, the user can restrict the depth of the model, or require a minimum of error reduction or observations for each split.  In this model, we will be cross-validating to find the optimal depth from a list of candidate values of depth.  It decides how many splits it should have based on ideas such as how much error a new split will resolve.  Once it has the final model, we can use it for prediction.\n",
    "\n",
    "In PySpark, we fit a model with the `DecisionTreeClassifier()` function.  To fit a model on the training data, to predict the outcome of a shot as a goal or not, we need to set up a pipeline that will take care of the necessary transformations to fit the model in PySpark.  We start by creating our list of predictors and selecting the columns from that list and the response column \"goal\" as \"label\" in the `SQLTransformer()` function. I used mostly numeric variables here, but there are some indicator variables like offWing and shotAngleReboundRoyalRoad."
   ]
  },
  {
   "cell_type": "code",
   "execution_count": 43,
   "id": "15057e35-2501-4b8d-99b3-396d8afe5607",
   "metadata": {},
   "outputs": [],
   "source": [
    "# List of predictors to include in the tree\n",
    "treePredictorsList = ['defendingTeamAverageTimeOnIceOfDefencemen', 'defendingTeamAverageTimeOnIceOfForwards',\n",
    "                      'shootingTeamAverageTimeOnIceOfDefencemen', 'shootingTeamAverageTimeOnIceOfForwards',\n",
    "                      'distanceFromLastEvent', 'shooterTimeOnIce',\n",
    "                      'shotAnglePlusRebound', 'shotAnglePlusReboundSpeed', \n",
    "                      'shotRebound', 'shotRush', 'speedFromLastEvent',\n",
    "                      'xCordAdjusted', 'yCordAdjusted', \n",
    "                      'powerPlay', 'penaltyKill', 'evenStrength', 'offWing',\n",
    "                      'shotType_Backhand', 'shotType_Deflection', 'shotType_Slap', \n",
    "                      'shotType_Snap', 'shotType_Tip', 'shotType_Wrap', 'shotType_Wrist'] \n",
    "# Set up SQL transformer that selects \"goal\" (as label) and the predictors from the list\n",
    "sqlTrans_tree = SQLTransformer(\n",
    "    statement = \"SELECT goal as label, \" + \", \".join(treePredictorsList) + \" FROM __THIS__\"\n",
    ")"
   ]
  },
  {
   "cell_type": "markdown",
   "id": "c3f78e4c-322c-408a-8283-ec9c3bd307b6",
   "metadata": {},
   "source": [
    "The next step in the pipeline is to arrange the predictors into a vector using `VectorAssembler()`, it is important to name this column \"features\"."
   ]
  },
  {
   "cell_type": "code",
   "execution_count": 44,
   "id": "48e35b70-46a0-4e49-9c18-e20bac62fd74",
   "metadata": {},
   "outputs": [],
   "source": [
    "# Set up vector assembler for the predictors list, name this column \"features\"\n",
    "assembler_tree = VectorAssembler(inputCols = treePredictorsList, outputCol = \"features\", handleInvalid = 'keep')"
   ]
  },
  {
   "cell_type": "markdown",
   "id": "c06ccb53-a5bc-49c6-8784-51061f1c1755",
   "metadata": {},
   "source": [
    "The last step in the pipeline is to pass these \"label\" (goal) and \"features\" (predictors) to the `DecisionTreeClassifier()` function, which will fit the model.  We can specify these three stages in our pipeline using `Pipeline()`, then save it as \"pipeline_tree\"."
   ]
  },
  {
   "cell_type": "code",
   "execution_count": 45,
   "id": "990fd793-0220-4a58-b9b5-3a99fe13c31c",
   "metadata": {},
   "outputs": [],
   "source": [
    "# Classification Tree function with label and features arguments\n",
    "ct = DecisionTreeClassifier(labelCol = \"label\", featuresCol = \"features\")\n",
    "# Set up pipeline with its 3 stages\n",
    "pipeline_tree = Pipeline(stages = [sqlTrans_tree, assembler_tree, ct])"
   ]
  },
  {
   "cell_type": "markdown",
   "id": "21bfddb9-66fa-4463-a45a-50c06fb7cc69",
   "metadata": {},
   "source": [
    "We want to also try different values for the tuning parameter \"maxDepth\" for the classification tree.  \"maxDepth\" is the maximum depth of tree allowed, which can be anywhere from 1 to 30.  Think of depth as the different levels that result from splits in the model.  To keep computation time somewhat lower, we are going to try 4, 6, 8, and 10 maximum levels of depth in our model.  We can choose the best value from these by performing 5-fold cross validation.  This is done in the `CrossValidator()` function, and takes in the pipeline and grid of parameters to try then evaluates them using `BinaryClassificationEvaluator()`.  Once this is set up, we can fit a cross-validated classification tree model on the training data with the `.fit()` method."
   ]
  },
  {
   "cell_type": "code",
   "execution_count": 46,
   "id": "6faae5be-39b9-4075-95fe-d127e52a3c66",
   "metadata": {},
   "outputs": [],
   "source": [
    "# Set up the grid of tuning parameters to try, try different values for max depth\n",
    "paramGrid_tree = ParamGridBuilder() \\\n",
    "    .addGrid(ct.maxDepth, [4, 6, 8, 10]) \\\n",
    "    .build()\n",
    "# Set up 5 fold cross validation for the classification tree pipeline, evaluate each model using BinaryClassificationEvaluator\n",
    "crossval_tree = CrossValidator(estimator = pipeline_tree,\n",
    "                          estimatorParamMaps = paramGrid_tree,\n",
    "                          evaluator = BinaryClassificationEvaluator(),\n",
    "                          numFolds=5)"
   ]
  },
  {
   "cell_type": "code",
   "execution_count": 47,
   "id": "782d1708-2875-406b-a5d1-eae24fb298c4",
   "metadata": {},
   "outputs": [],
   "source": [
    "# Fit the cross-validated classification tree\n",
    "cvModel_tree = crossval_tree.fit(train)"
   ]
  },
  {
   "cell_type": "markdown",
   "id": "3bfdfb16-f27b-43ae-bcd0-9c59cfd6963a",
   "metadata": {},
   "source": [
    "Now that our model is fit, we can compare the models for each level of \"maxDepth\" to see which value was the best.  The default measure for this is the AUC ROC.  To find this, we need to access the \"avgMetrics\" attribute of our cross validated model."
   ]
  },
  {
   "cell_type": "code",
   "execution_count": 48,
   "id": "3487ef34-60b7-48ab-ab0d-2e803bcc8f0c",
   "metadata": {},
   "outputs": [
    {
     "data": {
      "text/plain": [
       "[(0.5,\n",
       "  {Param(parent='DecisionTreeClassifier_f84c5aa8a611', name='maxDepth', doc='Maximum depth of the tree. (>= 0) E.g., depth 0 means 1 leaf node; depth 1 means 1 internal node + 2 leaf nodes. Must be in range [0, 30].'): 4}),\n",
       " (0.6043988580342095,\n",
       "  {Param(parent='DecisionTreeClassifier_f84c5aa8a611', name='maxDepth', doc='Maximum depth of the tree. (>= 0) E.g., depth 0 means 1 leaf node; depth 1 means 1 internal node + 2 leaf nodes. Must be in range [0, 30].'): 6}),\n",
       " (0.6196311883409351,\n",
       "  {Param(parent='DecisionTreeClassifier_f84c5aa8a611', name='maxDepth', doc='Maximum depth of the tree. (>= 0) E.g., depth 0 means 1 leaf node; depth 1 means 1 internal node + 2 leaf nodes. Must be in range [0, 30].'): 8}),\n",
       " (0.6105153546542373,\n",
       "  {Param(parent='DecisionTreeClassifier_f84c5aa8a611', name='maxDepth', doc='Maximum depth of the tree. (>= 0) E.g., depth 0 means 1 leaf node; depth 1 means 1 internal node + 2 leaf nodes. Must be in range [0, 30].'): 10})]"
      ]
     },
     "execution_count": 48,
     "metadata": {},
     "output_type": "execute_result"
    }
   ],
   "source": [
    "# List out all max depths their corresponding AUC ROC\n",
    "list(zip(cvModel_tree.avgMetrics, paramGrid_tree))"
   ]
  },
  {
   "cell_type": "markdown",
   "id": "6de42fa2-7813-4021-8bc7-8e9f8d14fe67",
   "metadata": {},
   "source": [
    "It appears that the best value of \"maxDepth\" to use of the ones we supplied was 8.  This model had an AUC of about 0.61 on the training data.  Just to be sure, we can look print out the max depth value with the `.getMaxDepth()` method and get the AUC from the `.evaluate` method."
   ]
  },
  {
   "cell_type": "code",
   "execution_count": 49,
   "id": "36f42036-5d63-464f-82db-0fa66c9ae704",
   "metadata": {},
   "outputs": [
    {
     "name": "stdout",
     "output_type": "stream",
     "text": [
      "8\n"
     ]
    }
   ],
   "source": [
    "# Print the values of max depth and min instances per node that give us the best classification tree model\n",
    "print(cvModel_tree.bestModel.stages[-1]._java_obj.getMaxDepth())"
   ]
  },
  {
   "cell_type": "code",
   "execution_count": 50,
   "id": "aba363b0-07c4-4738-a1ef-42b1e6c6ead0",
   "metadata": {},
   "outputs": [
    {
     "name": "stdout",
     "output_type": "stream",
     "text": [
      "0.6134122189882364\n"
     ]
    }
   ],
   "source": [
    "# Print AUC\n",
    "train_error = BinaryClassificationEvaluator().evaluate(cvModel_tree.transform(train))\n",
    "print(train_error)"
   ]
  },
  {
   "cell_type": "markdown",
   "id": "ee64295d-a6df-440a-9439-ea73ebbade71",
   "metadata": {},
   "source": [
    "Another output we can look at to help understand our model is the \"feature importance\" of each of our predictors.  This essentially estimates the proportion of the variability in our training data explained by each predictor.  We can do this by accessing the `.featureImportances` attribute of the `.bestModel` attribute of our cross validated model."
   ]
  },
  {
   "cell_type": "code",
   "execution_count": 51,
   "id": "86ca949d-f55e-4e4b-8a06-8326602cc567",
   "metadata": {},
   "outputs": [
    {
     "data": {
      "text/html": [
       "<div>\n",
       "<style scoped>\n",
       "    .dataframe tbody tr th:only-of-type {\n",
       "        vertical-align: middle;\n",
       "    }\n",
       "\n",
       "    .dataframe tbody tr th {\n",
       "        vertical-align: top;\n",
       "    }\n",
       "\n",
       "    .dataframe thead th {\n",
       "        text-align: right;\n",
       "    }\n",
       "</style>\n",
       "<table border=\"1\" class=\"dataframe\">\n",
       "  <thead>\n",
       "    <tr style=\"text-align: right;\">\n",
       "      <th></th>\n",
       "      <th>feature</th>\n",
       "      <th>importance</th>\n",
       "    </tr>\n",
       "  </thead>\n",
       "  <tbody>\n",
       "    <tr>\n",
       "      <th>11</th>\n",
       "      <td>xCordAdjusted</td>\n",
       "      <td>0.346224</td>\n",
       "    </tr>\n",
       "    <tr>\n",
       "      <th>12</th>\n",
       "      <td>yCordAdjusted</td>\n",
       "      <td>0.191964</td>\n",
       "    </tr>\n",
       "    <tr>\n",
       "      <th>8</th>\n",
       "      <td>shotRebound</td>\n",
       "      <td>0.169827</td>\n",
       "    </tr>\n",
       "    <tr>\n",
       "      <th>10</th>\n",
       "      <td>speedFromLastEvent</td>\n",
       "      <td>0.048412</td>\n",
       "    </tr>\n",
       "    <tr>\n",
       "      <th>7</th>\n",
       "      <td>shotAnglePlusReboundSpeed</td>\n",
       "      <td>0.033026</td>\n",
       "    </tr>\n",
       "    <tr>\n",
       "      <th>1</th>\n",
       "      <td>defendingTeamAverageTimeOnIceOfForwards</td>\n",
       "      <td>0.032900</td>\n",
       "    </tr>\n",
       "    <tr>\n",
       "      <th>4</th>\n",
       "      <td>distanceFromLastEvent</td>\n",
       "      <td>0.032695</td>\n",
       "    </tr>\n",
       "    <tr>\n",
       "      <th>0</th>\n",
       "      <td>defendingTeamAverageTimeOnIceOfDefencemen</td>\n",
       "      <td>0.028797</td>\n",
       "    </tr>\n",
       "    <tr>\n",
       "      <th>2</th>\n",
       "      <td>shootingTeamAverageTimeOnIceOfDefencemen</td>\n",
       "      <td>0.027294</td>\n",
       "    </tr>\n",
       "    <tr>\n",
       "      <th>6</th>\n",
       "      <td>shotAnglePlusRebound</td>\n",
       "      <td>0.022406</td>\n",
       "    </tr>\n",
       "    <tr>\n",
       "      <th>18</th>\n",
       "      <td>shotType_Deflection</td>\n",
       "      <td>0.014007</td>\n",
       "    </tr>\n",
       "    <tr>\n",
       "      <th>19</th>\n",
       "      <td>shotType_Slap</td>\n",
       "      <td>0.013493</td>\n",
       "    </tr>\n",
       "    <tr>\n",
       "      <th>5</th>\n",
       "      <td>shooterTimeOnIce</td>\n",
       "      <td>0.010504</td>\n",
       "    </tr>\n",
       "    <tr>\n",
       "      <th>3</th>\n",
       "      <td>shootingTeamAverageTimeOnIceOfForwards</td>\n",
       "      <td>0.008350</td>\n",
       "    </tr>\n",
       "    <tr>\n",
       "      <th>17</th>\n",
       "      <td>shotType_Backhand</td>\n",
       "      <td>0.005625</td>\n",
       "    </tr>\n",
       "    <tr>\n",
       "      <th>13</th>\n",
       "      <td>powerPlay</td>\n",
       "      <td>0.005319</td>\n",
       "    </tr>\n",
       "    <tr>\n",
       "      <th>21</th>\n",
       "      <td>shotType_Tip</td>\n",
       "      <td>0.005229</td>\n",
       "    </tr>\n",
       "    <tr>\n",
       "      <th>16</th>\n",
       "      <td>offWing</td>\n",
       "      <td>0.001987</td>\n",
       "    </tr>\n",
       "    <tr>\n",
       "      <th>23</th>\n",
       "      <td>shotType_Wrist</td>\n",
       "      <td>0.001640</td>\n",
       "    </tr>\n",
       "    <tr>\n",
       "      <th>20</th>\n",
       "      <td>shotType_Snap</td>\n",
       "      <td>0.000302</td>\n",
       "    </tr>\n",
       "    <tr>\n",
       "      <th>9</th>\n",
       "      <td>shotRush</td>\n",
       "      <td>0.000000</td>\n",
       "    </tr>\n",
       "    <tr>\n",
       "      <th>14</th>\n",
       "      <td>penaltyKill</td>\n",
       "      <td>0.000000</td>\n",
       "    </tr>\n",
       "    <tr>\n",
       "      <th>15</th>\n",
       "      <td>evenStrength</td>\n",
       "      <td>0.000000</td>\n",
       "    </tr>\n",
       "    <tr>\n",
       "      <th>22</th>\n",
       "      <td>shotType_Wrap</td>\n",
       "      <td>0.000000</td>\n",
       "    </tr>\n",
       "  </tbody>\n",
       "</table>\n",
       "</div>"
      ],
      "text/plain": [
       "                                      feature  importance\n",
       "11                              xCordAdjusted    0.346224\n",
       "12                              yCordAdjusted    0.191964\n",
       "8                                 shotRebound    0.169827\n",
       "10                         speedFromLastEvent    0.048412\n",
       "7                   shotAnglePlusReboundSpeed    0.033026\n",
       "1     defendingTeamAverageTimeOnIceOfForwards    0.032900\n",
       "4                       distanceFromLastEvent    0.032695\n",
       "0   defendingTeamAverageTimeOnIceOfDefencemen    0.028797\n",
       "2    shootingTeamAverageTimeOnIceOfDefencemen    0.027294\n",
       "6                        shotAnglePlusRebound    0.022406\n",
       "18                        shotType_Deflection    0.014007\n",
       "19                              shotType_Slap    0.013493\n",
       "5                            shooterTimeOnIce    0.010504\n",
       "3      shootingTeamAverageTimeOnIceOfForwards    0.008350\n",
       "17                          shotType_Backhand    0.005625\n",
       "13                                  powerPlay    0.005319\n",
       "21                               shotType_Tip    0.005229\n",
       "16                                    offWing    0.001987\n",
       "23                             shotType_Wrist    0.001640\n",
       "20                              shotType_Snap    0.000302\n",
       "9                                    shotRush    0.000000\n",
       "14                                penaltyKill    0.000000\n",
       "15                               evenStrength    0.000000\n",
       "22                              shotType_Wrap    0.000000"
      ]
     },
     "execution_count": 51,
     "metadata": {},
     "output_type": "execute_result"
    }
   ],
   "source": [
    "# Print importances by zipping together the predictor list with the featureImportances attribute of the best model\n",
    "ps.DataFrame(list(zip(treePredictorsList, list(cvModel_tree.bestModel.stages[-1].featureImportances))), \n",
    "             columns = [\"feature\", \"importance\"]).sort_values(by = [\"importance\"], ascending = [False])"
   ]
  },
  {
   "cell_type": "markdown",
   "id": "64d9b185-2c3e-47de-ba16-47c89cde293e",
   "metadata": {},
   "source": [
    "It appears that xCordAdjusted, yCordAdjusted, and shotRebound are super important, which makes sense intuitively.  The X and Y coordinates determine how far the shooter is from the goal, and goals are much more likely to go in if they are a rebound.  It looks like shotRush, evenStrength, and shotType_Wrap had minuscule prediction power.  This may be because so many shots are taken at evenStrength, it's hard to say what its effect is.  Wraparounds rarely happen in the league and rarely go in, and shotRush is kind of an odd term since it is hard to define what is clearly a rush in hockey."
   ]
  },
  {
   "cell_type": "markdown",
   "id": "8e114b77-924c-42d6-a324-cfc6412abd8d",
   "metadata": {},
   "source": [
    "Lastly, it is important that we evaluate the model on the testing data.  To do this, we use the `.evaluate()` method."
   ]
  },
  {
   "cell_type": "code",
   "execution_count": 52,
   "id": "5085c95c-dd3c-4d40-b23b-1a8404da50e7",
   "metadata": {},
   "outputs": [
    {
     "name": "stdout",
     "output_type": "stream",
     "text": [
      "0.6196515704197392\n"
     ]
    }
   ],
   "source": [
    "# Print out the testing set error of the best classification tree model that we had\n",
    "test_error = BinaryClassificationEvaluator().evaluate(cvModel_tree.transform(test))\n",
    "print(test_error)"
   ]
  },
  {
   "cell_type": "markdown",
   "id": "406feae3-2002-4436-a07d-918f59940f4a",
   "metadata": {},
   "source": [
    "It looks like the model had an AUC of about .612 on the testing data, which is lower than our logistic regression model."
   ]
  },
  {
   "cell_type": "markdown",
   "id": "940f17d7-4c0e-4f61-a01b-07490391445a",
   "metadata": {},
   "source": [
    "### Random Forest"
   ]
  },
  {
   "cell_type": "markdown",
   "id": "3f6ec38e-09f9-4073-8fc9-e83656ddc51b",
   "metadata": {},
   "source": [
    "Next, we will try fitting a Random Forest model to predict the probability of a goal being scored on a shot. The Random Forest algorithm is another tree-based model fitting algorithm that creates multiple classification trees (the number as specified in the function) and averages predictions across those trees. Each of the trees are made up of splits along different variables - for example, splitting on shooter time on ice less than 30 seconds or greater than or equal to 30 seconds. Down each path of splits within a tree, there can be a maximum number of splits as defined by the parameter maxDepth in the function. The parameter minInstancesPerNode puts a lower limit on the number of observations that can be included in one of the nodes at the end of a given tree path. A very low value of minInstancesPerNode can lead to overfitting on the training set and also ramps up the computational time significantly. Each tree is fit using a subset of the predictor variables, which helps to reduce the chance that a few strong variables dominate all of the trees fit within the algorithm. The random forest model is good at capturing non-linear relationships between predictor variables and the response variable, as well as interactions between different predictor variables (those show up as splits within the trees). The prediction comes from whichever node (terminal point of the tree) the observation falls in based on its predictor variable values for each of the trees and averages those predicted values. "
   ]
  },
  {
   "cell_type": "markdown",
   "id": "c3866575-dfea-4b95-8f7f-27a3480bc054",
   "metadata": {},
   "source": [
    "We'll be including more of the possible predictor variables in the random forest. More notably, we excluded shot angle and shot distance from the random forest because those are highly correlated with xCordAdjusted and yCordAdjusted (they are really functions of the x-coordinate and y-coordinate relative to the position of the goal). The x-coordinate and y-coordinate adjusted variables can be used for different splits to capture the non-linear relationship between those and whether the shot is scored (goal variable). For example, shot with an x-coordinate that corresponds to a shot from behind the net is a high x-coordinate value, but a low likelihood of being scored. The Random Forest can help capture some of the relationship between offWing (an indicator of whether the shooter is shooting on the opposite side of the ice as their handedness, for example a right-shot player shooting from the left side of the goal) and the x-coordinate and y-coordinate."
   ]
  },
  {
   "cell_type": "code",
   "execution_count": 53,
   "id": "f46b1a61-3712-4526-b073-87f80ceabc6d",
   "metadata": {},
   "outputs": [],
   "source": [
    "# predictors to include in random forest\n",
    "rf_predictors_list = ['defendingTeamAverageTimeOnIceOfDefencemen', 'defendingTeamAverageTimeOnIceOfForwards',\n",
    "                      'shootingTeamAverageTimeOnIceOfDefencemen', 'shootingTeamAverageTimeOnIceOfForwards',\n",
    "                      'distanceFromLastEvent', 'shooterTimeOnIce',\n",
    "                      'shotAnglePlusRebound', 'shotAnglePlusReboundSpeed', \n",
    "                      'shotRebound', 'shotRush', 'speedFromLastEvent',\n",
    "                      'xCordAdjusted', 'yCordAdjusted', \n",
    "                      'powerPlay', 'penaltyKill', 'evenStrength', 'offWing',\n",
    "                      'shotType_Backhand', 'shotType_Deflection', 'shotType_Slap', \n",
    "                      'shotType_Snap', 'shotType_Tip', 'shotType_Wrap', 'shotType_Wrist']"
   ]
  },
  {
   "cell_type": "markdown",
   "id": "723975f6-475e-411a-b4dd-19f54c9cfb50",
   "metadata": {},
   "source": [
    "First, we need to set up a Spark transformer to get the data into a format with the response variable as label and the predictors specified."
   ]
  },
  {
   "cell_type": "code",
   "execution_count": 54,
   "id": "665701b3-a76d-465b-984b-cc475668a812",
   "metadata": {},
   "outputs": [],
   "source": [
    "# select label and feature variables for Random Forest\n",
    "sqlTrans_rf = SQLTransformer(\n",
    "    statement = \"SELECT goal as label, \" + \", \".join(rf_predictors_list) + \" FROM __THIS__\"\n",
    ")"
   ]
  },
  {
   "cell_type": "markdown",
   "id": "38bb3004-3419-41c8-aa6f-3594e39de1af",
   "metadata": {},
   "source": [
    "The assembler will put all of the predictors into one vector with all of the predictor values."
   ]
  },
  {
   "cell_type": "code",
   "execution_count": 55,
   "id": "55e98a1d-7b91-4b99-9886-3c86b222eddd",
   "metadata": {},
   "outputs": [
    {
     "name": "stdout",
     "output_type": "stream",
     "text": [
      "+-----+--------------------+\n",
      "|label|            features|\n",
      "+-----+--------------------+\n",
      "|    1|(24,[0,1,2,3,4,5,...|\n",
      "|    0|(24,[0,1,2,3,4,5,...|\n",
      "|    0|(24,[0,1,2,3,4,5,...|\n",
      "|    1|[77.0,35.66666793...|\n",
      "|    0|(24,[0,1,2,3,4,5,...|\n",
      "|    1|(24,[0,1,2,3,4,5,...|\n",
      "|    0|(24,[0,1,2,3,4,5,...|\n",
      "|    1|(24,[0,1,2,3,4,5,...|\n",
      "|    0|(24,[0,1,2,3,4,5,...|\n",
      "|    1|(24,[0,1,2,3,4,5,...|\n",
      "+-----+--------------------+\n",
      "only showing top 10 rows\n",
      "\n"
     ]
    }
   ],
   "source": [
    "# predictors to include in Random Forest\n",
    "assembler_rf = VectorAssembler(inputCols = rf_predictors_list, \n",
    "                               outputCol = \"features\", handleInvalid = 'keep')\n",
    "\n",
    "# look at 10 rows of the data with this transformation applied to them\n",
    "assembler_rf.transform(sqlTrans_rf.transform(train)).select(\"label\", \"features\").show(10)"
   ]
  },
  {
   "cell_type": "markdown",
   "id": "4e3a74ea-4c7f-4686-834e-4eb405e3ae63",
   "metadata": {},
   "source": [
    "Now we need to define the Random Forest model. We'll set a seed to allow repeatability in the model fitting process. The number of trees specifies the number of different trees fit in the random forest, which eventually are averaged to generate the predictions."
   ]
  },
  {
   "cell_type": "code",
   "execution_count": 56,
   "id": "f49b4a8c-050c-4721-a248-86cfd5f58f29",
   "metadata": {},
   "outputs": [],
   "source": [
    "# define the random forest classifier with the number of trees to fit and set a seed for ability to replicate the analysis\n",
    "rf1 = RandomForestClassifier(featuresCol = \"features\", labelCol = \"label\", seed = 19, numTrees = 100)"
   ]
  },
  {
   "cell_type": "markdown",
   "id": "f0019d07-6a21-44ab-9d75-556151c8a5a2",
   "metadata": {},
   "source": [
    "Next, we want to test out some of the different parameters for the random forest model to attempt to find close to the best set of parameters. The max depth refers to the number of different splits allowed down one branch of a tree. The minimum instances per node is the minimum observations from the data set allowed in the terminal node of a tree. A lower minimum instances per node can get closer to the fit of the training set of data, but that runs the risk of overfitting the model on the training set. We decided to use a minimum of 50 instances per node to balance allowing the random forest to find smaller segments of shots with different interactions with the concern that too small of a minimum instances per node would lead to over-fitting on the training data set. Given there are many predictors, we'd like to consider a higher maximum depth, but the computational intensity of those trees being fit grows quickly. We decided to balance that out so that the computer could handle the highest maximum depth value in the parameter grid, though theoretically we could test out a larger parameter grid if we had access to more computing power."
   ]
  },
  {
   "cell_type": "code",
   "execution_count": 57,
   "id": "7e0d5e37-96e1-4c80-aaa9-72cbabc4cce1",
   "metadata": {},
   "outputs": [],
   "source": [
    "# set up the parameter grid to test out different maxDepth and minInstancesPerNode values in the Random Forest cross-validation process\n",
    "paramGrid_rf = (ParamGridBuilder() \\\n",
    "    .addGrid(rf1.maxDepth, [6, 8, 10]) \\\n",
    "    .addGrid(rf1.minInstancesPerNode, [50, 100, 200]) \\\n",
    "    .build())"
   ]
  },
  {
   "cell_type": "markdown",
   "id": "7115ff13-891c-4e09-98ca-0c33cb7464a8",
   "metadata": {},
   "source": [
    "We'll be defining the evaluator using the area under the ROC curve, the default evaluator for a binary classification model and the same one used for evaluating the logistic regression and classification tree models. The label column for the response variable is specified based on the random forest model above."
   ]
  },
  {
   "cell_type": "code",
   "execution_count": 58,
   "id": "1b7e844f-a287-4a42-9ffe-87df3ee40f0a",
   "metadata": {},
   "outputs": [],
   "source": [
    "# define the evaluator with the metric and label column for this random forest model\n",
    "evaluator_rf = BinaryClassificationEvaluator(metricName = \"areaUnderROC\", labelCol = rf1.getLabelCol())"
   ]
  },
  {
   "cell_type": "markdown",
   "id": "302e8d7f-9615-4b69-b5a2-e5ba7a15bdbf",
   "metadata": {},
   "source": [
    "Finally, our pipeline is specified to follow all those transformations before the model fitting process defined above."
   ]
  },
  {
   "cell_type": "code",
   "execution_count": 59,
   "id": "78f2e645-3619-4425-adc9-37b3511e7caf",
   "metadata": {},
   "outputs": [],
   "source": [
    "# set up the pipeline for fitting the random forest model\n",
    "pipeline_rf = Pipeline(stages = [sqlTrans_rf, assembler_rf, rf1])"
   ]
  },
  {
   "cell_type": "markdown",
   "id": "a546ef5e-8ab8-4d73-b40c-f978bc4e5f78",
   "metadata": {},
   "source": [
    "Now, it's time to set up the cross-validation based on the random forest pipeline and the different parameter values we specified to test out."
   ]
  },
  {
   "cell_type": "code",
   "execution_count": 60,
   "id": "f95f02ea-73fe-43c4-b7e5-a3ba4ef8c087",
   "metadata": {},
   "outputs": [],
   "source": [
    "# perform cross validation by fitting different Random Forest models using the specified model pipeline and...\n",
    "## different parameter values to test in the parameter grid\n",
    "cv_rf = CrossValidator(estimator = pipeline_rf,\n",
    "                       estimatorParamMaps = paramGrid_rf,\n",
    "                       evaluator = evaluator_rf,\n",
    "                       numFolds = 5)"
   ]
  },
  {
   "cell_type": "markdown",
   "id": "5fa8787b-b542-4e72-993f-fb256b0f80ab",
   "metadata": {},
   "source": [
    "Now that we have the cross-validation process set up with the random forest model pipeline and the different parameters in the parameter grid to test out, we will use the training data set to fit different models in the cross-validation process and find the best fit."
   ]
  },
  {
   "cell_type": "code",
   "execution_count": 61,
   "id": "fd7727b0-29f4-4ab2-b05e-dbe4c5b3655e",
   "metadata": {},
   "outputs": [],
   "source": [
    "# Run cross-validation on the training set and choose the best set of parameters for the random forest model\n",
    "cv_model_rf = cv_rf.fit(train)"
   ]
  },
  {
   "cell_type": "markdown",
   "id": "2633eb2a-1020-40a9-956c-c56834d4637c",
   "metadata": {},
   "source": [
    "To get the best fit model from the cross-validation process, we need to select that object from the stages of the pipeline specified above."
   ]
  },
  {
   "cell_type": "code",
   "execution_count": 62,
   "id": "e70e08c3-6c88-4b8b-9c37-81bf308b815f",
   "metadata": {},
   "outputs": [],
   "source": [
    "# best model fit from random forest cross validation\n",
    "bestModel_rf_cv = cv_model_rf.bestModel.stages[-1]"
   ]
  },
  {
   "cell_type": "markdown",
   "id": "b27eb168-1ce0-44b8-94ce-f55c13062241",
   "metadata": {},
   "source": [
    "Based on that best fit model, we want to see the parameters to come out of that cross-validation process."
   ]
  },
  {
   "cell_type": "code",
   "execution_count": 63,
   "id": "303a5bc6-b6af-4c9c-b17b-4dd3983c73c4",
   "metadata": {},
   "outputs": [
    {
     "name": "stdout",
     "output_type": "stream",
     "text": [
      "numTrees -  100\n",
      "maxDepth -  10\n",
      "minInstancesPerNode -  50\n"
     ]
    }
   ],
   "source": [
    "print('numTrees - ', bestModel_rf_cv.getNumTrees)\n",
    "print('maxDepth - ', bestModel_rf_cv.getOrDefault('maxDepth'))\n",
    "print('minInstancesPerNode - ', bestModel_rf_cv.getOrDefault('minInstancesPerNode'))"
   ]
  },
  {
   "cell_type": "markdown",
   "id": "5fd63c51-c0de-469d-a739-7c40fea63f97",
   "metadata": {},
   "source": [
    "Now, we want to see which of the features (predictors) were most important in the random forest model. The default feature importance calculation looks at the average improvement on misclassification rate (predicting the incorrect outcome) of splits using that feature."
   ]
  },
  {
   "cell_type": "code",
   "execution_count": 64,
   "id": "004f1c03-c9d7-4645-8009-a338f1d1391e",
   "metadata": {},
   "outputs": [
    {
     "data": {
      "text/html": [
       "<div>\n",
       "<style scoped>\n",
       "    .dataframe tbody tr th:only-of-type {\n",
       "        vertical-align: middle;\n",
       "    }\n",
       "\n",
       "    .dataframe tbody tr th {\n",
       "        vertical-align: top;\n",
       "    }\n",
       "\n",
       "    .dataframe thead th {\n",
       "        text-align: right;\n",
       "    }\n",
       "</style>\n",
       "<table border=\"1\" class=\"dataframe\">\n",
       "  <thead>\n",
       "    <tr style=\"text-align: right;\">\n",
       "      <th></th>\n",
       "      <th>feature</th>\n",
       "      <th>importance</th>\n",
       "    </tr>\n",
       "  </thead>\n",
       "  <tbody>\n",
       "    <tr>\n",
       "      <th>8</th>\n",
       "      <td>shotRebound</td>\n",
       "      <td>0.255114</td>\n",
       "    </tr>\n",
       "    <tr>\n",
       "      <th>11</th>\n",
       "      <td>xCordAdjusted</td>\n",
       "      <td>0.245764</td>\n",
       "    </tr>\n",
       "    <tr>\n",
       "      <th>7</th>\n",
       "      <td>shotAnglePlusReboundSpeed</td>\n",
       "      <td>0.186932</td>\n",
       "    </tr>\n",
       "    <tr>\n",
       "      <th>12</th>\n",
       "      <td>yCordAdjusted</td>\n",
       "      <td>0.114388</td>\n",
       "    </tr>\n",
       "    <tr>\n",
       "      <th>10</th>\n",
       "      <td>speedFromLastEvent</td>\n",
       "      <td>0.045703</td>\n",
       "    </tr>\n",
       "    <tr>\n",
       "      <th>4</th>\n",
       "      <td>distanceFromLastEvent</td>\n",
       "      <td>0.034232</td>\n",
       "    </tr>\n",
       "    <tr>\n",
       "      <th>6</th>\n",
       "      <td>shotAnglePlusRebound</td>\n",
       "      <td>0.028827</td>\n",
       "    </tr>\n",
       "    <tr>\n",
       "      <th>13</th>\n",
       "      <td>powerPlay</td>\n",
       "      <td>0.015069</td>\n",
       "    </tr>\n",
       "    <tr>\n",
       "      <th>15</th>\n",
       "      <td>evenStrength</td>\n",
       "      <td>0.014426</td>\n",
       "    </tr>\n",
       "    <tr>\n",
       "      <th>5</th>\n",
       "      <td>shooterTimeOnIce</td>\n",
       "      <td>0.011992</td>\n",
       "    </tr>\n",
       "    <tr>\n",
       "      <th>0</th>\n",
       "      <td>defendingTeamAverageTimeOnIceOfDefencemen</td>\n",
       "      <td>0.010086</td>\n",
       "    </tr>\n",
       "    <tr>\n",
       "      <th>2</th>\n",
       "      <td>shootingTeamAverageTimeOnIceOfDefencemen</td>\n",
       "      <td>0.009223</td>\n",
       "    </tr>\n",
       "    <tr>\n",
       "      <th>1</th>\n",
       "      <td>defendingTeamAverageTimeOnIceOfForwards</td>\n",
       "      <td>0.009209</td>\n",
       "    </tr>\n",
       "    <tr>\n",
       "      <th>3</th>\n",
       "      <td>shootingTeamAverageTimeOnIceOfForwards</td>\n",
       "      <td>0.008409</td>\n",
       "    </tr>\n",
       "    <tr>\n",
       "      <th>23</th>\n",
       "      <td>shotType_Wrist</td>\n",
       "      <td>0.002607</td>\n",
       "    </tr>\n",
       "    <tr>\n",
       "      <th>20</th>\n",
       "      <td>shotType_Snap</td>\n",
       "      <td>0.002316</td>\n",
       "    </tr>\n",
       "    <tr>\n",
       "      <th>21</th>\n",
       "      <td>shotType_Tip</td>\n",
       "      <td>0.002176</td>\n",
       "    </tr>\n",
       "    <tr>\n",
       "      <th>16</th>\n",
       "      <td>offWing</td>\n",
       "      <td>0.002020</td>\n",
       "    </tr>\n",
       "    <tr>\n",
       "      <th>22</th>\n",
       "      <td>shotType_Wrap</td>\n",
       "      <td>0.000640</td>\n",
       "    </tr>\n",
       "    <tr>\n",
       "      <th>17</th>\n",
       "      <td>shotType_Backhand</td>\n",
       "      <td>0.000581</td>\n",
       "    </tr>\n",
       "    <tr>\n",
       "      <th>9</th>\n",
       "      <td>shotRush</td>\n",
       "      <td>0.000287</td>\n",
       "    </tr>\n",
       "    <tr>\n",
       "      <th>14</th>\n",
       "      <td>penaltyKill</td>\n",
       "      <td>0.000000</td>\n",
       "    </tr>\n",
       "    <tr>\n",
       "      <th>18</th>\n",
       "      <td>shotType_Deflection</td>\n",
       "      <td>0.000000</td>\n",
       "    </tr>\n",
       "    <tr>\n",
       "      <th>19</th>\n",
       "      <td>shotType_Slap</td>\n",
       "      <td>0.000000</td>\n",
       "    </tr>\n",
       "  </tbody>\n",
       "</table>\n",
       "</div>"
      ],
      "text/plain": [
       "                                      feature  importance\n",
       "8                                 shotRebound    0.255114\n",
       "11                              xCordAdjusted    0.245764\n",
       "7                   shotAnglePlusReboundSpeed    0.186932\n",
       "12                              yCordAdjusted    0.114388\n",
       "10                         speedFromLastEvent    0.045703\n",
       "4                       distanceFromLastEvent    0.034232\n",
       "6                        shotAnglePlusRebound    0.028827\n",
       "13                                  powerPlay    0.015069\n",
       "15                               evenStrength    0.014426\n",
       "5                            shooterTimeOnIce    0.011992\n",
       "0   defendingTeamAverageTimeOnIceOfDefencemen    0.010086\n",
       "2    shootingTeamAverageTimeOnIceOfDefencemen    0.009223\n",
       "1     defendingTeamAverageTimeOnIceOfForwards    0.009209\n",
       "3      shootingTeamAverageTimeOnIceOfForwards    0.008409\n",
       "23                             shotType_Wrist    0.002607\n",
       "20                              shotType_Snap    0.002316\n",
       "21                               shotType_Tip    0.002176\n",
       "16                                    offWing    0.002020\n",
       "22                              shotType_Wrap    0.000640\n",
       "17                          shotType_Backhand    0.000581\n",
       "9                                    shotRush    0.000287\n",
       "14                                penaltyKill    0.000000\n",
       "18                        shotType_Deflection    0.000000\n",
       "19                              shotType_Slap    0.000000"
      ]
     },
     "execution_count": 64,
     "metadata": {},
     "output_type": "execute_result"
    }
   ],
   "source": [
    "# get feature importances from best fit random forest model\n",
    "## sort them by importance in descending order\n",
    "ps.DataFrame(list(zip(rf_predictors_list, list(bestModel_rf_cv.featureImportances))), columns = [\"feature\", \"importance\"]).sort_values(by = [\"importance\"], ascending = [False])"
   ]
  },
  {
   "cell_type": "markdown",
   "id": "10ec2663-7359-4b55-9f16-26b8b45f8201",
   "metadata": {},
   "source": [
    "We can see that the xCordAdjusted and yCordAdjusted variables are very important in fitting the trees within the random forest model, which is not surprising. shotAnglePlusReboundSpeed, which is the angle between this shot and the previous shot divided by the the time between those two events (essentially, how fast the angle changed as per the documentation), shows up as very important. This makes sense too, because a shot off a rebound coming from the opposite side of the goal generally means a quick shift of direction that is very difficult for the goalie to cover. Seeing shotRebound being important indicates that whether a shot is off a rebound is a fairly strong predictor of whether it is scored. Another interesting set of variables is speedFromLastEvent and distanceFromLastEvent - perhaps a shot that takes place far from where the last event recorded in the play-by-play data occurred, especially if it was shortly after that event, indicates a rapid change in possession and a quick transition to offense. We didn't gain a ton from the indicator variables for power play, even strength, penalty kill, or the shot types, but they at least showed up in some splits within the trees."
   ]
  },
  {
   "cell_type": "markdown",
   "id": "9fc91d39-88e5-431e-899b-332c054ac4d0",
   "metadata": {},
   "source": [
    "Now, we need to use the best fit random forest model to make predictions on the test set of data. The predictions on data not used in fitting the model can provide a better picture of the effectiveness of the model and a point of comparison against the different model types."
   ]
  },
  {
   "cell_type": "code",
   "execution_count": 65,
   "id": "9a646477-a735-4849-8928-83d7eb63af95",
   "metadata": {},
   "outputs": [],
   "source": [
    "# evaluating the random forest on the test (holdout) data set\n",
    "rf_predictions_test = cv_model_rf.transform(test)"
   ]
  },
  {
   "cell_type": "markdown",
   "id": "319ce462-ab2c-41a9-be73-1ec129224dab",
   "metadata": {},
   "source": [
    "Using those predictions on the test set of data, we will evaluate the effectiveness of the model based on the AUC."
   ]
  },
  {
   "cell_type": "code",
   "execution_count": 66,
   "id": "3c6a65f5-5959-41a6-95a2-775dc70104b9",
   "metadata": {},
   "outputs": [
    {
     "data": {
      "text/plain": [
       "0.7076231319390369"
      ]
     },
     "execution_count": 66,
     "metadata": {},
     "output_type": "execute_result"
    }
   ],
   "source": [
    "evaluator_rf.evaluate(rf_predictions_test)"
   ]
  },
  {
   "cell_type": "markdown",
   "id": "e6a18917-8008-4864-8004-52a9f64bab5a",
   "metadata": {},
   "source": [
    "The AUC of the random forest predictions on the test set is still pretty high for a complex outcome to model, but not as high as that of the logistic regression model on the test set. Perhaps with greater computing power, we could further tune a random forest model with higher maximum depth, but this at least shows some of the variables that are important and has solid predictive ability."
   ]
  },
  {
   "cell_type": "markdown",
   "id": "50724e81-3623-4cfd-b2b2-bffa568e4537",
   "metadata": {},
   "source": [
    "## Conclusion\n",
    "\n",
    "All in all, it appears that currently our best model is the logistic regression model.  We found that specifying many combinations of tuning parameters on the tree-based models was computationally expensive, even for Spark.  This data set has many predictors and over 100,000 observations, so fitting something like a random forest takes a long time for a single personal computer. Perhaps in the future, it would be interesting to try to fit a random forest model using a more powerful computer to better optimize the parameters and allow for deeper trees. The AUC values for the random forest and logistic regression were above 0.70, which is pretty good considering how unpredictable something like an NHL shot going in the goal is.  The classification tree did not do all that well, however.  We were able to find that distance, rebounds, and rebound speed were big indicators of whether or not a goal goes in.  Perhaps these are obvious, but in a future analysis perhaps we can try to isolate these variables a little bit better and see what the next most important variables are. "
   ]
  },
  {
   "cell_type": "code",
   "execution_count": null,
   "id": "0cb33695-b3ca-47a7-9ba4-55d9171d9882",
   "metadata": {},
   "outputs": [],
   "source": []
  }
 ],
 "metadata": {
  "kernelspec": {
   "display_name": "Python 3 (ipykernel)",
   "language": "python",
   "name": "python3"
  },
  "language_info": {
   "codemirror_mode": {
    "name": "ipython",
    "version": 3
   },
   "file_extension": ".py",
   "mimetype": "text/x-python",
   "name": "python",
   "nbconvert_exporter": "python",
   "pygments_lexer": "ipython3",
   "version": "3.10.5"
  }
 },
 "nbformat": 4,
 "nbformat_minor": 5
}
